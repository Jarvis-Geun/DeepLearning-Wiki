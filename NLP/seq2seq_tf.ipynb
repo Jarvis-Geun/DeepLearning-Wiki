{
  "cells": [
    {
      "cell_type": "markdown",
      "metadata": {
        "colab_type": "text",
        "id": "view-in-github"
      },
      "source": [
        "<a href=\"https://colab.research.google.com/github/Jarvis-Geun/DeepLearning-Wiki/blob/main/NLP/seq2seq_tf.ipynb\" target=\"_parent\"><img src=\"https://colab.research.google.com/assets/colab-badge.svg\" alt=\"Open In Colab\"/></a>"
      ]
    },
    {
      "cell_type": "markdown",
      "metadata": {
        "id": "FONX-LVEaTI9"
      },
      "source": [
        "`-` Reference\n",
        "- [[Wikidocs] Sequence-to-Sequence](https://wikidocs.net/24996)"
      ]
    },
    {
      "cell_type": "code",
      "execution_count": 1,
      "metadata": {
        "id": "BkVTfXlTZsPV"
      },
      "outputs": [],
      "source": [
        "import os\n",
        "import shutil\n",
        "import zipfile\n",
        "\n",
        "import pandas as pd\n",
        "import tensorflow as tf\n",
        "import urllib3\n",
        "from tensorflow.keras.preprocessing.sequence import pad_sequences\n",
        "from tensorflow.keras.utils import to_categorical"
      ]
    },
    {
      "cell_type": "markdown",
      "metadata": {
        "id": "DHV4Fb7qxsa7"
      },
      "source": [
        "# 코퍼스 데이터 전처리"
      ]
    },
    {
      "cell_type": "code",
      "execution_count": 2,
      "metadata": {
        "id": "hudoO7fjaRp7"
      },
      "outputs": [],
      "source": [
        "http = urllib3.PoolManager()\n",
        "url = 'http://www.manythings.org/anki/fra-eng.zip'\n",
        "filename = 'fra-eng.zip'\n",
        "path = os.getcwd()\n",
        "zipfilename = os.path.join(path, filename)\n",
        "with http.request('GET', url, preload_content=False) as r, open(zipfilename, 'wb') as out_file:\n",
        "  shutil.copyfileobj(r, out_file)\n",
        "\n",
        "with zipfile.ZipFile(zipfilename, 'r') as zip_ref:\n",
        "  zip_ref.extractall(path)"
      ]
    },
    {
      "cell_type": "code",
      "execution_count": 3,
      "metadata": {
        "colab": {
          "base_uri": "https://localhost:8080/"
        },
        "id": "bBE8iqwEhTlg",
        "outputId": "5688f0dd-18c6-4eaf-e581-470847f5be12"
      },
      "outputs": [
        {
          "name": "stdout",
          "output_type": "stream",
          "text": [
            "Help on built-in function getcwd in module posix:\n",
            "\n",
            "getcwd()\n",
            "    Return a unicode string representing the current working directory.\n",
            "\n"
          ]
        }
      ],
      "source": [
        "help(os.getcwd)"
      ]
    },
    {
      "cell_type": "markdown",
      "metadata": {
        "id": "HXAa7U4dfgYC"
      },
      "source": [
        "`-` fra.txt 출력"
      ]
    },
    {
      "cell_type": "code",
      "execution_count": 4,
      "metadata": {
        "colab": {
          "base_uri": "https://localhost:8080/",
          "height": 815
        },
        "id": "OgcKtsOPfAUW",
        "outputId": "c271a572-d09b-4333-fa2e-7cb68af8bb90"
      },
      "outputs": [
        {
          "data": {
            "text/html": [
              "\n",
              "  <div id=\"df-4cf13662-ffaa-480e-ad63-8dfc63bace7b\">\n",
              "    <div class=\"colab-df-container\">\n",
              "      <div>\n",
              "<style scoped>\n",
              "    .dataframe tbody tr th:only-of-type {\n",
              "        vertical-align: middle;\n",
              "    }\n",
              "\n",
              "    .dataframe tbody tr th {\n",
              "        vertical-align: top;\n",
              "    }\n",
              "\n",
              "    .dataframe thead th {\n",
              "        text-align: right;\n",
              "    }\n",
              "</style>\n",
              "<table border=\"1\" class=\"dataframe\">\n",
              "  <thead>\n",
              "    <tr style=\"text-align: right;\">\n",
              "      <th></th>\n",
              "      <th>src</th>\n",
              "      <th>tar</th>\n",
              "      <th>lic</th>\n",
              "    </tr>\n",
              "  </thead>\n",
              "  <tbody>\n",
              "    <tr>\n",
              "      <th>0</th>\n",
              "      <td>Go.</td>\n",
              "      <td>Va !</td>\n",
              "      <td>CC-BY 2.0 (France) Attribution: tatoeba.org #2...</td>\n",
              "    </tr>\n",
              "    <tr>\n",
              "      <th>1</th>\n",
              "      <td>Go.</td>\n",
              "      <td>Marche.</td>\n",
              "      <td>CC-BY 2.0 (France) Attribution: tatoeba.org #2...</td>\n",
              "    </tr>\n",
              "    <tr>\n",
              "      <th>2</th>\n",
              "      <td>Go.</td>\n",
              "      <td>Bouge !</td>\n",
              "      <td>CC-BY 2.0 (France) Attribution: tatoeba.org #2...</td>\n",
              "    </tr>\n",
              "    <tr>\n",
              "      <th>3</th>\n",
              "      <td>Hi.</td>\n",
              "      <td>Salut !</td>\n",
              "      <td>CC-BY 2.0 (France) Attribution: tatoeba.org #5...</td>\n",
              "    </tr>\n",
              "    <tr>\n",
              "      <th>4</th>\n",
              "      <td>Hi.</td>\n",
              "      <td>Salut.</td>\n",
              "      <td>CC-BY 2.0 (France) Attribution: tatoeba.org #5...</td>\n",
              "    </tr>\n",
              "    <tr>\n",
              "      <th>...</th>\n",
              "      <td>...</td>\n",
              "      <td>...</td>\n",
              "      <td>...</td>\n",
              "    </tr>\n",
              "    <tr>\n",
              "      <th>192336</th>\n",
              "      <td>A carbon footprint is the amount of carbon dio...</td>\n",
              "      <td>Une empreinte carbone est la somme de pollutio...</td>\n",
              "      <td>CC-BY 2.0 (France) Attribution: tatoeba.org #1...</td>\n",
              "    </tr>\n",
              "    <tr>\n",
              "      <th>192337</th>\n",
              "      <td>Death is something that we're often discourage...</td>\n",
              "      <td>La mort est une chose qu'on nous décourage sou...</td>\n",
              "      <td>CC-BY 2.0 (France) Attribution: tatoeba.org #1...</td>\n",
              "    </tr>\n",
              "    <tr>\n",
              "      <th>192338</th>\n",
              "      <td>Since there are usually multiple websites on a...</td>\n",
              "      <td>Puisqu'il y a de multiples sites web sur chaqu...</td>\n",
              "      <td>CC-BY 2.0 (France) Attribution: tatoeba.org #9...</td>\n",
              "    </tr>\n",
              "    <tr>\n",
              "      <th>192339</th>\n",
              "      <td>If someone who doesn't know your background sa...</td>\n",
              "      <td>Si quelqu'un qui ne connaît pas vos antécédent...</td>\n",
              "      <td>CC-BY 2.0 (France) Attribution: tatoeba.org #9...</td>\n",
              "    </tr>\n",
              "    <tr>\n",
              "      <th>192340</th>\n",
              "      <td>It may be impossible to get a completely error...</td>\n",
              "      <td>Il est peut-être impossible d'obtenir un Corpu...</td>\n",
              "      <td>CC-BY 2.0 (France) Attribution: tatoeba.org #2...</td>\n",
              "    </tr>\n",
              "  </tbody>\n",
              "</table>\n",
              "<p>192341 rows × 3 columns</p>\n",
              "</div>\n",
              "      <button class=\"colab-df-convert\" onclick=\"convertToInteractive('df-4cf13662-ffaa-480e-ad63-8dfc63bace7b')\"\n",
              "              title=\"Convert this dataframe to an interactive table.\"\n",
              "              style=\"display:none;\">\n",
              "        \n",
              "  <svg xmlns=\"http://www.w3.org/2000/svg\" height=\"24px\"viewBox=\"0 0 24 24\"\n",
              "       width=\"24px\">\n",
              "    <path d=\"M0 0h24v24H0V0z\" fill=\"none\"/>\n",
              "    <path d=\"M18.56 5.44l.94 2.06.94-2.06 2.06-.94-2.06-.94-.94-2.06-.94 2.06-2.06.94zm-11 1L8.5 8.5l.94-2.06 2.06-.94-2.06-.94L8.5 2.5l-.94 2.06-2.06.94zm10 10l.94 2.06.94-2.06 2.06-.94-2.06-.94-.94-2.06-.94 2.06-2.06.94z\"/><path d=\"M17.41 7.96l-1.37-1.37c-.4-.4-.92-.59-1.43-.59-.52 0-1.04.2-1.43.59L10.3 9.45l-7.72 7.72c-.78.78-.78 2.05 0 2.83L4 21.41c.39.39.9.59 1.41.59.51 0 1.02-.2 1.41-.59l7.78-7.78 2.81-2.81c.8-.78.8-2.07 0-2.86zM5.41 20L4 18.59l7.72-7.72 1.47 1.35L5.41 20z\"/>\n",
              "  </svg>\n",
              "      </button>\n",
              "      \n",
              "  <style>\n",
              "    .colab-df-container {\n",
              "      display:flex;\n",
              "      flex-wrap:wrap;\n",
              "      gap: 12px;\n",
              "    }\n",
              "\n",
              "    .colab-df-convert {\n",
              "      background-color: #E8F0FE;\n",
              "      border: none;\n",
              "      border-radius: 50%;\n",
              "      cursor: pointer;\n",
              "      display: none;\n",
              "      fill: #1967D2;\n",
              "      height: 32px;\n",
              "      padding: 0 0 0 0;\n",
              "      width: 32px;\n",
              "    }\n",
              "\n",
              "    .colab-df-convert:hover {\n",
              "      background-color: #E2EBFA;\n",
              "      box-shadow: 0px 1px 2px rgba(60, 64, 67, 0.3), 0px 1px 3px 1px rgba(60, 64, 67, 0.15);\n",
              "      fill: #174EA6;\n",
              "    }\n",
              "\n",
              "    [theme=dark] .colab-df-convert {\n",
              "      background-color: #3B4455;\n",
              "      fill: #D2E3FC;\n",
              "    }\n",
              "\n",
              "    [theme=dark] .colab-df-convert:hover {\n",
              "      background-color: #434B5C;\n",
              "      box-shadow: 0px 1px 3px 1px rgba(0, 0, 0, 0.15);\n",
              "      filter: drop-shadow(0px 1px 2px rgba(0, 0, 0, 0.3));\n",
              "      fill: #FFFFFF;\n",
              "    }\n",
              "  </style>\n",
              "\n",
              "      <script>\n",
              "        const buttonEl =\n",
              "          document.querySelector('#df-4cf13662-ffaa-480e-ad63-8dfc63bace7b button.colab-df-convert');\n",
              "        buttonEl.style.display =\n",
              "          google.colab.kernel.accessAllowed ? 'block' : 'none';\n",
              "\n",
              "        async function convertToInteractive(key) {\n",
              "          const element = document.querySelector('#df-4cf13662-ffaa-480e-ad63-8dfc63bace7b');\n",
              "          const dataTable =\n",
              "            await google.colab.kernel.invokeFunction('convertToInteractive',\n",
              "                                                     [key], {});\n",
              "          if (!dataTable) return;\n",
              "\n",
              "          const docLinkHtml = 'Like what you see? Visit the ' +\n",
              "            '<a target=\"_blank\" href=https://colab.research.google.com/notebooks/data_table.ipynb>data table notebook</a>'\n",
              "            + ' to learn more about interactive tables.';\n",
              "          element.innerHTML = '';\n",
              "          dataTable['output_type'] = 'display_data';\n",
              "          await google.colab.output.renderOutput(dataTable, element);\n",
              "          const docLink = document.createElement('div');\n",
              "          docLink.innerHTML = docLinkHtml;\n",
              "          element.appendChild(docLink);\n",
              "        }\n",
              "      </script>\n",
              "    </div>\n",
              "  </div>\n",
              "  "
            ],
            "text/plain": [
              "                                                      src  \\\n",
              "0                                                     Go.   \n",
              "1                                                     Go.   \n",
              "2                                                     Go.   \n",
              "3                                                     Hi.   \n",
              "4                                                     Hi.   \n",
              "...                                                   ...   \n",
              "192336  A carbon footprint is the amount of carbon dio...   \n",
              "192337  Death is something that we're often discourage...   \n",
              "192338  Since there are usually multiple websites on a...   \n",
              "192339  If someone who doesn't know your background sa...   \n",
              "192340  It may be impossible to get a completely error...   \n",
              "\n",
              "                                                      tar  \\\n",
              "0                                                    Va !   \n",
              "1                                                 Marche.   \n",
              "2                                                 Bouge !   \n",
              "3                                                 Salut !   \n",
              "4                                                  Salut.   \n",
              "...                                                   ...   \n",
              "192336  Une empreinte carbone est la somme de pollutio...   \n",
              "192337  La mort est une chose qu'on nous décourage sou...   \n",
              "192338  Puisqu'il y a de multiples sites web sur chaqu...   \n",
              "192339  Si quelqu'un qui ne connaît pas vos antécédent...   \n",
              "192340  Il est peut-être impossible d'obtenir un Corpu...   \n",
              "\n",
              "                                                      lic  \n",
              "0       CC-BY 2.0 (France) Attribution: tatoeba.org #2...  \n",
              "1       CC-BY 2.0 (France) Attribution: tatoeba.org #2...  \n",
              "2       CC-BY 2.0 (France) Attribution: tatoeba.org #2...  \n",
              "3       CC-BY 2.0 (France) Attribution: tatoeba.org #5...  \n",
              "4       CC-BY 2.0 (France) Attribution: tatoeba.org #5...  \n",
              "...                                                   ...  \n",
              "192336  CC-BY 2.0 (France) Attribution: tatoeba.org #1...  \n",
              "192337  CC-BY 2.0 (France) Attribution: tatoeba.org #1...  \n",
              "192338  CC-BY 2.0 (France) Attribution: tatoeba.org #9...  \n",
              "192339  CC-BY 2.0 (France) Attribution: tatoeba.org #9...  \n",
              "192340  CC-BY 2.0 (France) Attribution: tatoeba.org #2...  \n",
              "\n",
              "[192341 rows x 3 columns]"
            ]
          },
          "execution_count": 4,
          "metadata": {},
          "output_type": "execute_result"
        }
      ],
      "source": [
        "pd.read_csv('fra.txt', names=['src', 'tar', 'lic'], sep='\\t')"
      ]
    },
    {
      "cell_type": "code",
      "execution_count": 5,
      "metadata": {
        "colab": {
          "base_uri": "https://localhost:8080/"
        },
        "id": "shCEP0R7bx0f",
        "outputId": "718e38f4-f2ec-4c48-df0f-001feacd3545"
      },
      "outputs": [
        {
          "name": "stdout",
          "output_type": "stream",
          "text": [
            "전체 샘플의 개수 : 192341\n"
          ]
        }
      ],
      "source": [
        "# source (src), target (tar), license (lic) => tab을 기준으로 분리\n",
        "lines = pd.read_csv('fra.txt', names=['src', 'tar', 'lic'], sep='\\t')\n",
        "# license 열 제거\n",
        "del lines['lic']\n",
        "print(\"전체 샘플의 개수 :\", len(lines))"
      ]
    },
    {
      "cell_type": "code",
      "execution_count": 6,
      "metadata": {
        "colab": {
          "base_uri": "https://localhost:8080/",
          "height": 363
        },
        "id": "vnVLo9JycNef",
        "outputId": "ed0bc515-724c-4fbc-d72d-1bfe3a23c041"
      },
      "outputs": [
        {
          "data": {
            "text/html": [
              "\n",
              "  <div id=\"df-7693e70e-9e51-4637-ba4d-3b1e23229e54\">\n",
              "    <div class=\"colab-df-container\">\n",
              "      <div>\n",
              "<style scoped>\n",
              "    .dataframe tbody tr th:only-of-type {\n",
              "        vertical-align: middle;\n",
              "    }\n",
              "\n",
              "    .dataframe tbody tr th {\n",
              "        vertical-align: top;\n",
              "    }\n",
              "\n",
              "    .dataframe thead th {\n",
              "        text-align: right;\n",
              "    }\n",
              "</style>\n",
              "<table border=\"1\" class=\"dataframe\">\n",
              "  <thead>\n",
              "    <tr style=\"text-align: right;\">\n",
              "      <th></th>\n",
              "      <th>src</th>\n",
              "      <th>tar</th>\n",
              "    </tr>\n",
              "  </thead>\n",
              "  <tbody>\n",
              "    <tr>\n",
              "      <th>34812</th>\n",
              "      <td>How is your hearing?</td>\n",
              "      <td>Comment est votre audition ?</td>\n",
              "    </tr>\n",
              "    <tr>\n",
              "      <th>31939</th>\n",
              "      <td>Tom is Mary's hero.</td>\n",
              "      <td>Tom est le héros de Mary.</td>\n",
              "    </tr>\n",
              "    <tr>\n",
              "      <th>27064</th>\n",
              "      <td>Who was that girl?</td>\n",
              "      <td>Qui était cette fille ?</td>\n",
              "    </tr>\n",
              "    <tr>\n",
              "      <th>9248</th>\n",
              "      <td>You look busy.</td>\n",
              "      <td>Vous avez l'air occupées.</td>\n",
              "    </tr>\n",
              "    <tr>\n",
              "      <th>13609</th>\n",
              "      <td>How is it going?</td>\n",
              "      <td>Comment vas-tu ?</td>\n",
              "    </tr>\n",
              "    <tr>\n",
              "      <th>26896</th>\n",
              "      <td>What song is this?</td>\n",
              "      <td>C'est quel son ?</td>\n",
              "    </tr>\n",
              "    <tr>\n",
              "      <th>24339</th>\n",
              "      <td>I'm not like that.</td>\n",
              "      <td>Je ne suis pas comme ça.</td>\n",
              "    </tr>\n",
              "    <tr>\n",
              "      <th>26881</th>\n",
              "      <td>What is the delay?</td>\n",
              "      <td>Quel en est le délai ?</td>\n",
              "    </tr>\n",
              "    <tr>\n",
              "      <th>55057</th>\n",
              "      <td>I can come if you want.</td>\n",
              "      <td>Je peux venir, si vous voulez.</td>\n",
              "    </tr>\n",
              "    <tr>\n",
              "      <th>24077</th>\n",
              "      <td>I was quite lucky.</td>\n",
              "      <td>J'ai été assez chanceuse.</td>\n",
              "    </tr>\n",
              "  </tbody>\n",
              "</table>\n",
              "</div>\n",
              "      <button class=\"colab-df-convert\" onclick=\"convertToInteractive('df-7693e70e-9e51-4637-ba4d-3b1e23229e54')\"\n",
              "              title=\"Convert this dataframe to an interactive table.\"\n",
              "              style=\"display:none;\">\n",
              "        \n",
              "  <svg xmlns=\"http://www.w3.org/2000/svg\" height=\"24px\"viewBox=\"0 0 24 24\"\n",
              "       width=\"24px\">\n",
              "    <path d=\"M0 0h24v24H0V0z\" fill=\"none\"/>\n",
              "    <path d=\"M18.56 5.44l.94 2.06.94-2.06 2.06-.94-2.06-.94-.94-2.06-.94 2.06-2.06.94zm-11 1L8.5 8.5l.94-2.06 2.06-.94-2.06-.94L8.5 2.5l-.94 2.06-2.06.94zm10 10l.94 2.06.94-2.06 2.06-.94-2.06-.94-.94-2.06-.94 2.06-2.06.94z\"/><path d=\"M17.41 7.96l-1.37-1.37c-.4-.4-.92-.59-1.43-.59-.52 0-1.04.2-1.43.59L10.3 9.45l-7.72 7.72c-.78.78-.78 2.05 0 2.83L4 21.41c.39.39.9.59 1.41.59.51 0 1.02-.2 1.41-.59l7.78-7.78 2.81-2.81c.8-.78.8-2.07 0-2.86zM5.41 20L4 18.59l7.72-7.72 1.47 1.35L5.41 20z\"/>\n",
              "  </svg>\n",
              "      </button>\n",
              "      \n",
              "  <style>\n",
              "    .colab-df-container {\n",
              "      display:flex;\n",
              "      flex-wrap:wrap;\n",
              "      gap: 12px;\n",
              "    }\n",
              "\n",
              "    .colab-df-convert {\n",
              "      background-color: #E8F0FE;\n",
              "      border: none;\n",
              "      border-radius: 50%;\n",
              "      cursor: pointer;\n",
              "      display: none;\n",
              "      fill: #1967D2;\n",
              "      height: 32px;\n",
              "      padding: 0 0 0 0;\n",
              "      width: 32px;\n",
              "    }\n",
              "\n",
              "    .colab-df-convert:hover {\n",
              "      background-color: #E2EBFA;\n",
              "      box-shadow: 0px 1px 2px rgba(60, 64, 67, 0.3), 0px 1px 3px 1px rgba(60, 64, 67, 0.15);\n",
              "      fill: #174EA6;\n",
              "    }\n",
              "\n",
              "    [theme=dark] .colab-df-convert {\n",
              "      background-color: #3B4455;\n",
              "      fill: #D2E3FC;\n",
              "    }\n",
              "\n",
              "    [theme=dark] .colab-df-convert:hover {\n",
              "      background-color: #434B5C;\n",
              "      box-shadow: 0px 1px 3px 1px rgba(0, 0, 0, 0.15);\n",
              "      filter: drop-shadow(0px 1px 2px rgba(0, 0, 0, 0.3));\n",
              "      fill: #FFFFFF;\n",
              "    }\n",
              "  </style>\n",
              "\n",
              "      <script>\n",
              "        const buttonEl =\n",
              "          document.querySelector('#df-7693e70e-9e51-4637-ba4d-3b1e23229e54 button.colab-df-convert');\n",
              "        buttonEl.style.display =\n",
              "          google.colab.kernel.accessAllowed ? 'block' : 'none';\n",
              "\n",
              "        async function convertToInteractive(key) {\n",
              "          const element = document.querySelector('#df-7693e70e-9e51-4637-ba4d-3b1e23229e54');\n",
              "          const dataTable =\n",
              "            await google.colab.kernel.invokeFunction('convertToInteractive',\n",
              "                                                     [key], {});\n",
              "          if (!dataTable) return;\n",
              "\n",
              "          const docLinkHtml = 'Like what you see? Visit the ' +\n",
              "            '<a target=\"_blank\" href=https://colab.research.google.com/notebooks/data_table.ipynb>data table notebook</a>'\n",
              "            + ' to learn more about interactive tables.';\n",
              "          element.innerHTML = '';\n",
              "          dataTable['output_type'] = 'display_data';\n",
              "          await google.colab.output.renderOutput(dataTable, element);\n",
              "          const docLink = document.createElement('div');\n",
              "          docLink.innerHTML = docLinkHtml;\n",
              "          element.appendChild(docLink);\n",
              "        }\n",
              "      </script>\n",
              "    </div>\n",
              "  </div>\n",
              "  "
            ],
            "text/plain": [
              "                           src                             tar\n",
              "34812     How is your hearing?    Comment est votre audition ?\n",
              "31939      Tom is Mary's hero.       Tom est le héros de Mary.\n",
              "27064       Who was that girl?         Qui était cette fille ?\n",
              "9248            You look busy.       Vous avez l'air occupées.\n",
              "13609         How is it going?                Comment vas-tu ?\n",
              "26896       What song is this?                C'est quel son ?\n",
              "24339       I'm not like that.        Je ne suis pas comme ça.\n",
              "26881       What is the delay?          Quel en est le délai ?\n",
              "55057  I can come if you want.  Je peux venir, si vous voulez.\n",
              "24077       I was quite lucky.       J'ai été assez chanceuse."
            ]
          },
          "execution_count": 6,
          "metadata": {},
          "output_type": "execute_result"
        }
      ],
      "source": [
        "lines = lines.loc[:, 'src':'tar']\n",
        "lines = lines[0:60000]  # 전체 샘플 중 60,000개만 저장\n",
        "lines.sample(10)  # 10개 샘플 출력"
      ]
    },
    {
      "cell_type": "code",
      "execution_count": 7,
      "metadata": {
        "colab": {
          "base_uri": "https://localhost:8080/"
        },
        "id": "0ZNTNGeUgWb7",
        "outputId": "144ba1fd-cdd3-4029-b331-e839b7fdc8b8"
      },
      "outputs": [
        {
          "data": {
            "text/plain": [
              "pandas.core.frame.DataFrame"
            ]
          },
          "execution_count": 7,
          "metadata": {},
          "output_type": "execute_result"
        }
      ],
      "source": [
        "type(lines)"
      ]
    },
    {
      "cell_type": "markdown",
      "metadata": {
        "id": "uFygezhqgmJ4"
      },
      "source": [
        "`-` lines.sample\n",
        "- [pandas.DataFrame.sample](https://pandas.pydata.org/docs/reference/api/pandas.DataFrame.sample.html) $\\to$ Return a random sample of items from an axis of object.\n",
        "- 지정된 개수만큼 랜덤으로 샘플 출력"
      ]
    },
    {
      "cell_type": "markdown",
      "metadata": {
        "id": "i_nChSXIidyq"
      },
      "source": [
        "`-` \\<sos> $\\to$ \\t  \n",
        "`-` \\<eos> $\\to$ \\n\n",
        "- 참고 : sos (start of sequence), eos (end of sequence)"
      ]
    },
    {
      "cell_type": "code",
      "execution_count": 8,
      "metadata": {
        "colab": {
          "base_uri": "https://localhost:8080/",
          "height": 363
        },
        "id": "YtLy5EtGg653",
        "outputId": "4bfa262e-46b7-4155-d6e7-3619fa67ed27"
      },
      "outputs": [
        {
          "data": {
            "text/html": [
              "\n",
              "  <div id=\"df-6c223415-90d7-45ff-b004-f8143477286e\">\n",
              "    <div class=\"colab-df-container\">\n",
              "      <div>\n",
              "<style scoped>\n",
              "    .dataframe tbody tr th:only-of-type {\n",
              "        vertical-align: middle;\n",
              "    }\n",
              "\n",
              "    .dataframe tbody tr th {\n",
              "        vertical-align: top;\n",
              "    }\n",
              "\n",
              "    .dataframe thead th {\n",
              "        text-align: right;\n",
              "    }\n",
              "</style>\n",
              "<table border=\"1\" class=\"dataframe\">\n",
              "  <thead>\n",
              "    <tr style=\"text-align: right;\">\n",
              "      <th></th>\n",
              "      <th>src</th>\n",
              "      <th>tar</th>\n",
              "    </tr>\n",
              "  </thead>\n",
              "  <tbody>\n",
              "    <tr>\n",
              "      <th>56450</th>\n",
              "      <td>I'm fascinated by cats.</td>\n",
              "      <td>\\t Je suis fasciné par les chats. \\n</td>\n",
              "    </tr>\n",
              "    <tr>\n",
              "      <th>37793</th>\n",
              "      <td>They stayed friends.</td>\n",
              "      <td>\\t Ils restèrent amis. \\n</td>\n",
              "    </tr>\n",
              "    <tr>\n",
              "      <th>45041</th>\n",
              "      <td>Tom sat on the couch.</td>\n",
              "      <td>\\t Tom s'est assis sur le canapé. \\n</td>\n",
              "    </tr>\n",
              "    <tr>\n",
              "      <th>27280</th>\n",
              "      <td>You have no fever.</td>\n",
              "      <td>\\t Tu n'as pas de fièvre. \\n</td>\n",
              "    </tr>\n",
              "    <tr>\n",
              "      <th>48452</th>\n",
              "      <td>I don't need advisers.</td>\n",
              "      <td>\\t Je n'ai pas besoin de conseillers. \\n</td>\n",
              "    </tr>\n",
              "    <tr>\n",
              "      <th>43471</th>\n",
              "      <td>My father grows rice.</td>\n",
              "      <td>\\t Mon père cultive du riz. \\n</td>\n",
              "    </tr>\n",
              "    <tr>\n",
              "      <th>35987</th>\n",
              "      <td>I'll fix your wagon.</td>\n",
              "      <td>\\t Je réparerai ton chariot. \\n</td>\n",
              "    </tr>\n",
              "    <tr>\n",
              "      <th>34056</th>\n",
              "      <td>Do you speak French?</td>\n",
              "      <td>\\t Sais-tu parler français ? \\n</td>\n",
              "    </tr>\n",
              "    <tr>\n",
              "      <th>56560</th>\n",
              "      <td>I'm not going that way.</td>\n",
              "      <td>\\t Je ne me rends pas par là. \\n</td>\n",
              "    </tr>\n",
              "    <tr>\n",
              "      <th>33974</th>\n",
              "      <td>Do you enjoy losing?</td>\n",
              "      <td>\\t Prends-tu plaisir à perdre ? \\n</td>\n",
              "    </tr>\n",
              "  </tbody>\n",
              "</table>\n",
              "</div>\n",
              "      <button class=\"colab-df-convert\" onclick=\"convertToInteractive('df-6c223415-90d7-45ff-b004-f8143477286e')\"\n",
              "              title=\"Convert this dataframe to an interactive table.\"\n",
              "              style=\"display:none;\">\n",
              "        \n",
              "  <svg xmlns=\"http://www.w3.org/2000/svg\" height=\"24px\"viewBox=\"0 0 24 24\"\n",
              "       width=\"24px\">\n",
              "    <path d=\"M0 0h24v24H0V0z\" fill=\"none\"/>\n",
              "    <path d=\"M18.56 5.44l.94 2.06.94-2.06 2.06-.94-2.06-.94-.94-2.06-.94 2.06-2.06.94zm-11 1L8.5 8.5l.94-2.06 2.06-.94-2.06-.94L8.5 2.5l-.94 2.06-2.06.94zm10 10l.94 2.06.94-2.06 2.06-.94-2.06-.94-.94-2.06-.94 2.06-2.06.94z\"/><path d=\"M17.41 7.96l-1.37-1.37c-.4-.4-.92-.59-1.43-.59-.52 0-1.04.2-1.43.59L10.3 9.45l-7.72 7.72c-.78.78-.78 2.05 0 2.83L4 21.41c.39.39.9.59 1.41.59.51 0 1.02-.2 1.41-.59l7.78-7.78 2.81-2.81c.8-.78.8-2.07 0-2.86zM5.41 20L4 18.59l7.72-7.72 1.47 1.35L5.41 20z\"/>\n",
              "  </svg>\n",
              "      </button>\n",
              "      \n",
              "  <style>\n",
              "    .colab-df-container {\n",
              "      display:flex;\n",
              "      flex-wrap:wrap;\n",
              "      gap: 12px;\n",
              "    }\n",
              "\n",
              "    .colab-df-convert {\n",
              "      background-color: #E8F0FE;\n",
              "      border: none;\n",
              "      border-radius: 50%;\n",
              "      cursor: pointer;\n",
              "      display: none;\n",
              "      fill: #1967D2;\n",
              "      height: 32px;\n",
              "      padding: 0 0 0 0;\n",
              "      width: 32px;\n",
              "    }\n",
              "\n",
              "    .colab-df-convert:hover {\n",
              "      background-color: #E2EBFA;\n",
              "      box-shadow: 0px 1px 2px rgba(60, 64, 67, 0.3), 0px 1px 3px 1px rgba(60, 64, 67, 0.15);\n",
              "      fill: #174EA6;\n",
              "    }\n",
              "\n",
              "    [theme=dark] .colab-df-convert {\n",
              "      background-color: #3B4455;\n",
              "      fill: #D2E3FC;\n",
              "    }\n",
              "\n",
              "    [theme=dark] .colab-df-convert:hover {\n",
              "      background-color: #434B5C;\n",
              "      box-shadow: 0px 1px 3px 1px rgba(0, 0, 0, 0.15);\n",
              "      filter: drop-shadow(0px 1px 2px rgba(0, 0, 0, 0.3));\n",
              "      fill: #FFFFFF;\n",
              "    }\n",
              "  </style>\n",
              "\n",
              "      <script>\n",
              "        const buttonEl =\n",
              "          document.querySelector('#df-6c223415-90d7-45ff-b004-f8143477286e button.colab-df-convert');\n",
              "        buttonEl.style.display =\n",
              "          google.colab.kernel.accessAllowed ? 'block' : 'none';\n",
              "\n",
              "        async function convertToInteractive(key) {\n",
              "          const element = document.querySelector('#df-6c223415-90d7-45ff-b004-f8143477286e');\n",
              "          const dataTable =\n",
              "            await google.colab.kernel.invokeFunction('convertToInteractive',\n",
              "                                                     [key], {});\n",
              "          if (!dataTable) return;\n",
              "\n",
              "          const docLinkHtml = 'Like what you see? Visit the ' +\n",
              "            '<a target=\"_blank\" href=https://colab.research.google.com/notebooks/data_table.ipynb>data table notebook</a>'\n",
              "            + ' to learn more about interactive tables.';\n",
              "          element.innerHTML = '';\n",
              "          dataTable['output_type'] = 'display_data';\n",
              "          await google.colab.output.renderOutput(dataTable, element);\n",
              "          const docLink = document.createElement('div');\n",
              "          docLink.innerHTML = docLinkHtml;\n",
              "          element.appendChild(docLink);\n",
              "        }\n",
              "      </script>\n",
              "    </div>\n",
              "  </div>\n",
              "  "
            ],
            "text/plain": [
              "                           src                                       tar\n",
              "56450  I'm fascinated by cats.      \\t Je suis fasciné par les chats. \\n\n",
              "37793     They stayed friends.                 \\t Ils restèrent amis. \\n\n",
              "45041    Tom sat on the couch.      \\t Tom s'est assis sur le canapé. \\n\n",
              "27280       You have no fever.              \\t Tu n'as pas de fièvre. \\n\n",
              "48452   I don't need advisers.  \\t Je n'ai pas besoin de conseillers. \\n\n",
              "43471    My father grows rice.            \\t Mon père cultive du riz. \\n\n",
              "35987     I'll fix your wagon.           \\t Je réparerai ton chariot. \\n\n",
              "34056     Do you speak French?           \\t Sais-tu parler français ? \\n\n",
              "56560  I'm not going that way.          \\t Je ne me rends pas par là. \\n\n",
              "33974     Do you enjoy losing?        \\t Prends-tu plaisir à perdre ? \\n"
            ]
          },
          "execution_count": 8,
          "metadata": {},
          "output_type": "execute_result"
        }
      ],
      "source": [
        "# tar 열에 \\t와 \\n 추가\n",
        "lines.tar = lines.tar.apply(lambda x : '\\t ' + x + ' \\n')\n",
        "lines.sample(10)"
      ]
    },
    {
      "cell_type": "code",
      "execution_count": 9,
      "metadata": {
        "id": "eHaD23arg8B-"
      },
      "outputs": [],
      "source": [
        "# help(lines.tar.apply)"
      ]
    },
    {
      "cell_type": "code",
      "execution_count": 10,
      "metadata": {
        "colab": {
          "base_uri": "https://localhost:8080/",
          "height": 35
        },
        "id": "O8H7sihijueX",
        "outputId": "7b649cfe-2881-4e7b-dc0f-ca4a853c38f5"
      },
      "outputs": [
        {
          "data": {
            "application/vnd.google.colaboratory.intrinsic+json": {
              "type": "string"
            },
            "text/plain": [
              "'I am sick.'"
            ]
          },
          "execution_count": 10,
          "metadata": {},
          "output_type": "execute_result"
        }
      ],
      "source": [
        "lines.src[1000]"
      ]
    },
    {
      "cell_type": "code",
      "execution_count": 11,
      "metadata": {
        "colab": {
          "base_uri": "https://localhost:8080/"
        },
        "id": "XdtDTYl4j45H",
        "outputId": "778ff145-c7d8-44e6-ef18-2d1b0531734f"
      },
      "outputs": [
        {
          "name": "stdout",
          "output_type": "stream",
          "text": [
            "I\n",
            " \n",
            "a\n",
            "m\n",
            " \n",
            "s\n",
            "i\n",
            "c\n",
            "k\n",
            ".\n"
          ]
        }
      ],
      "source": [
        "for line in lines.src[1000]:\n",
        "  print(line)"
      ]
    },
    {
      "cell_type": "code",
      "execution_count": 12,
      "metadata": {
        "id": "yFT3x5kPg8kO"
      },
      "outputs": [],
      "source": [
        "# 문자 집합(set) 구축\n",
        "src_vocab = set()\n",
        "for line in lines.src: # 1줄씩 읽음\n",
        "  for char in line: # 1개의 문자씩 읽음\n",
        "    src_vocab.add(char)\n",
        "\n",
        "tar_vocab = set()\n",
        "for line in lines.tar:\n",
        "  for char in line:\n",
        "    tar_vocab.add(char)"
      ]
    },
    {
      "cell_type": "code",
      "execution_count": 13,
      "metadata": {
        "colab": {
          "base_uri": "https://localhost:8080/"
        },
        "id": "T2ZUd-Nrg8pV",
        "outputId": "59f42ce3-6ec0-4987-fbe4-12ec2a18bcce"
      },
      "outputs": [
        {
          "name": "stdout",
          "output_type": "stream",
          "text": [
            "src_vocab_size : 80\n",
            "tar_vocab_size : 105\n"
          ]
        }
      ],
      "source": [
        "src_vocab_size = len(src_vocab) + 1\n",
        "tar_vocab_size = len(tar_vocab) + 1\n",
        "print(\"src_vocab_size :\", src_vocab_size)\n",
        "print(\"tar_vocab_size :\", tar_vocab_size)"
      ]
    },
    {
      "cell_type": "markdown",
      "metadata": {
        "id": "LhyR7weVmfxr"
      },
      "source": [
        "`-` 80개의 영어 문자, 105개의 프랑스어 문자"
      ]
    },
    {
      "cell_type": "markdown",
      "metadata": {
        "id": "PlilFC3Umqz5"
      },
      "source": [
        "## 인덱스 부여"
      ]
    },
    {
      "cell_type": "code",
      "execution_count": 14,
      "metadata": {
        "colab": {
          "base_uri": "https://localhost:8080/"
        },
        "id": "enJyVXXeg8rT",
        "outputId": "075c0e3b-b912-4dcd-d64a-b6daea7c2f96"
      },
      "outputs": [
        {
          "name": "stdout",
          "output_type": "stream",
          "text": [
            "['W', 'X', 'Y', 'Z', 'a', 'b', 'c', 'd', 'e', 'f', 'g', 'h', 'i', 'j', 'k', 'l', 'm', 'n', 'o', 'p', 'q', 'r', 's', 't', 'u', 'v', 'w', 'x', 'y', 'z']\n",
            "['T', 'U', 'V', 'W', 'X', 'Y', 'Z', 'a', 'b', 'c', 'd', 'e', 'f', 'g', 'h', 'i', 'j', 'k', 'l', 'm', 'n', 'o', 'p', 'q', 'r', 's', 't', 'u', 'v', 'w']\n"
          ]
        }
      ],
      "source": [
        "src_vocab = sorted(list(src_vocab))\n",
        "tar_vocab = sorted(list(tar_vocab))\n",
        "print(src_vocab[45:75])\n",
        "print(tar_vocab[45:75])"
      ]
    },
    {
      "cell_type": "code",
      "execution_count": 15,
      "metadata": {
        "colab": {
          "base_uri": "https://localhost:8080/"
        },
        "id": "3bcB4uednV9E",
        "outputId": "de057a5b-5e1e-44de-d64d-6bf13be7ad3a"
      },
      "outputs": [
        {
          "name": "stdout",
          "output_type": "stream",
          "text": [
            "[(' ', 1), ('!', 2), ('\"', 3), ('$', 4), ('%', 5), ('&', 6), (\"'\", 7), (',', 8), ('-', 9), ('.', 10), ('/', 11), ('0', 12), ('1', 13), ('2', 14), ('3', 15), ('4', 16), ('5', 17), ('6', 18), ('7', 19), ('8', 20), ('9', 21), (':', 22), ('?', 23), ('A', 24), ('B', 25), ('C', 26), ('D', 27), ('E', 28), ('F', 29), ('G', 30), ('H', 31), ('I', 32), ('J', 33), ('K', 34), ('L', 35), ('M', 36), ('N', 37), ('O', 38), ('P', 39), ('Q', 40), ('R', 41), ('S', 42), ('T', 43), ('U', 44), ('V', 45), ('W', 46), ('X', 47), ('Y', 48), ('Z', 49), ('a', 50), ('b', 51), ('c', 52), ('d', 53), ('e', 54), ('f', 55), ('g', 56), ('h', 57), ('i', 58), ('j', 59), ('k', 60), ('l', 61), ('m', 62), ('n', 63), ('o', 64), ('p', 65), ('q', 66), ('r', 67), ('s', 68), ('t', 69), ('u', 70), ('v', 71), ('w', 72), ('x', 73), ('y', 74), ('z', 75), ('°', 76), ('é', 77), ('’', 78), ('€', 79)]\n"
          ]
        }
      ],
      "source": [
        "src_to_index = [(word, i+1) for i, word in enumerate(src_vocab)]\n",
        "print(src_to_index)"
      ]
    },
    {
      "cell_type": "code",
      "execution_count": 16,
      "metadata": {
        "colab": {
          "base_uri": "https://localhost:8080/"
        },
        "id": "tn_D1iyzmVuL",
        "outputId": "078a6278-3cd4-40a1-8f00-b8e2d4965811"
      },
      "outputs": [
        {
          "name": "stdout",
          "output_type": "stream",
          "text": [
            "{' ': 1, '!': 2, '\"': 3, '$': 4, '%': 5, '&': 6, \"'\": 7, ',': 8, '-': 9, '.': 10, '/': 11, '0': 12, '1': 13, '2': 14, '3': 15, '4': 16, '5': 17, '6': 18, '7': 19, '8': 20, '9': 21, ':': 22, '?': 23, 'A': 24, 'B': 25, 'C': 26, 'D': 27, 'E': 28, 'F': 29, 'G': 30, 'H': 31, 'I': 32, 'J': 33, 'K': 34, 'L': 35, 'M': 36, 'N': 37, 'O': 38, 'P': 39, 'Q': 40, 'R': 41, 'S': 42, 'T': 43, 'U': 44, 'V': 45, 'W': 46, 'X': 47, 'Y': 48, 'Z': 49, 'a': 50, 'b': 51, 'c': 52, 'd': 53, 'e': 54, 'f': 55, 'g': 56, 'h': 57, 'i': 58, 'j': 59, 'k': 60, 'l': 61, 'm': 62, 'n': 63, 'o': 64, 'p': 65, 'q': 66, 'r': 67, 's': 68, 't': 69, 'u': 70, 'v': 71, 'w': 72, 'x': 73, 'y': 74, 'z': 75, '°': 76, 'é': 77, '’': 78, '€': 79}\n",
            "{'\\t': 1, '\\n': 2, ' ': 3, '!': 4, '\"': 5, '$': 6, '%': 7, '&': 8, \"'\": 9, '(': 10, ')': 11, ',': 12, '-': 13, '.': 14, '0': 15, '1': 16, '2': 17, '3': 18, '4': 19, '5': 20, '6': 21, '7': 22, '8': 23, '9': 24, ':': 25, '?': 26, 'A': 27, 'B': 28, 'C': 29, 'D': 30, 'E': 31, 'F': 32, 'G': 33, 'H': 34, 'I': 35, 'J': 36, 'K': 37, 'L': 38, 'M': 39, 'N': 40, 'O': 41, 'P': 42, 'Q': 43, 'R': 44, 'S': 45, 'T': 46, 'U': 47, 'V': 48, 'W': 49, 'X': 50, 'Y': 51, 'Z': 52, 'a': 53, 'b': 54, 'c': 55, 'd': 56, 'e': 57, 'f': 58, 'g': 59, 'h': 60, 'i': 61, 'j': 62, 'k': 63, 'l': 64, 'm': 65, 'n': 66, 'o': 67, 'p': 68, 'q': 69, 'r': 70, 's': 71, 't': 72, 'u': 73, 'v': 74, 'w': 75, 'x': 76, 'y': 77, 'z': 78, '\\xa0': 79, '«': 80, '»': 81, 'À': 82, 'Ç': 83, 'É': 84, 'Ê': 85, 'Ô': 86, 'à': 87, 'â': 88, 'ç': 89, 'è': 90, 'é': 91, 'ê': 92, 'ë': 93, 'î': 94, 'ï': 95, 'ô': 96, 'ù': 97, 'û': 98, 'œ': 99, '\\u2009': 100, '\\u200b': 101, '‘': 102, '’': 103, '\\u202f': 104}\n"
          ]
        }
      ],
      "source": [
        "src_to_index = dict([(word, i+1) for i, word in enumerate(src_vocab)])\n",
        "tar_to_index = dict([(word, i+1) for i, word in enumerate(tar_vocab)])\n",
        "print(src_to_index)\n",
        "print(tar_to_index)"
      ]
    },
    {
      "cell_type": "markdown",
      "metadata": {
        "id": "5JEWjq4Fonnp"
      },
      "source": [
        "## 정수 인코딩"
      ]
    },
    {
      "cell_type": "markdown",
      "metadata": {
        "id": "htx8aOTnq3Ec"
      },
      "source": [
        "### 영어 문장 $\\to$ 정수 인코딩\n",
        "- 인코더의 입력"
      ]
    },
    {
      "cell_type": "code",
      "execution_count": 17,
      "metadata": {
        "colab": {
          "base_uri": "https://localhost:8080/"
        },
        "id": "uzruMHX-o2q2",
        "outputId": "e755206d-93b0-4671-f9f9-17d5f231f75e"
      },
      "outputs": [
        {
          "data": {
            "text/plain": [
              "0                            Go.\n",
              "1                            Go.\n",
              "2                            Go.\n",
              "3                            Hi.\n",
              "4                            Hi.\n",
              "                  ...           \n",
              "59995    Why would they do that?\n",
              "59996    Why would you ask that?\n",
              "59997    Why would you ask that?\n",
              "59998    Why would you say that?\n",
              "59999    Why would you say that?\n",
              "Name: src, Length: 60000, dtype: object"
            ]
          },
          "execution_count": 17,
          "metadata": {},
          "output_type": "execute_result"
        }
      ],
      "source": [
        "lines.src"
      ]
    },
    {
      "cell_type": "code",
      "execution_count": 18,
      "metadata": {
        "colab": {
          "base_uri": "https://localhost:8080/"
        },
        "id": "KZpFqJUzo6RY",
        "outputId": "a2148cc2-70fc-47bb-f550-38524de6c467"
      },
      "outputs": [
        {
          "name": "stdout",
          "output_type": "stream",
          "text": [
            "Go.\n",
            "G\n"
          ]
        }
      ],
      "source": [
        "print(lines.src[0])\n",
        "print(lines.src[0][0])"
      ]
    },
    {
      "cell_type": "code",
      "execution_count": 19,
      "metadata": {
        "colab": {
          "base_uri": "https://localhost:8080/"
        },
        "id": "xVlAOmQUoZAc",
        "outputId": "528bcccb-1137-4f7f-99a8-2fe5a165b1ff"
      },
      "outputs": [
        {
          "data": {
            "text/plain": [
              "30"
            ]
          },
          "execution_count": 19,
          "metadata": {},
          "output_type": "execute_result"
        }
      ],
      "source": [
        "src_to_index[lines.src[0][0]]"
      ]
    },
    {
      "cell_type": "markdown",
      "metadata": {
        "id": "KDuB-vYrqPU5"
      },
      "source": [
        "`-` 실제로 30번째 인덱스를 출력해보면 `('G', 30)`이 저장된 것을 확인할 수 있다."
      ]
    },
    {
      "cell_type": "code",
      "execution_count": 20,
      "metadata": {
        "colab": {
          "base_uri": "https://localhost:8080/"
        },
        "id": "ny8aP2_npNL0",
        "outputId": "2aab1806-b66a-4cfa-86e1-c90d375d1f63"
      },
      "outputs": [
        {
          "data": {
            "text/plain": [
              "('G', 30)"
            ]
          },
          "execution_count": 20,
          "metadata": {},
          "output_type": "execute_result"
        }
      ],
      "source": [
        "list(src_to_index.items())[29]"
      ]
    },
    {
      "cell_type": "code",
      "execution_count": 21,
      "metadata": {
        "colab": {
          "base_uri": "https://localhost:8080/"
        },
        "id": "TzLBdppvndLx",
        "outputId": "53e011ac-2d0e-4d6b-9180-f86041f83cdf"
      },
      "outputs": [
        {
          "name": "stdout",
          "output_type": "stream",
          "text": [
            "샘플 => encoder_input[:5] : [[30, 64, 10], [30, 64, 10], [30, 64, 10], [31, 58, 10], [31, 58, 10]]\n"
          ]
        }
      ],
      "source": [
        "encoder_input = []\n",
        "\n",
        "# 1개의 문장\n",
        "for line in lines.src:\n",
        "  encoded_line = []\n",
        "  # 각 줄에서 1개의 char\n",
        "  for char in line:\n",
        "    # 각 char을 정수로 변환\n",
        "    encoded_line.append(src_to_index[char])\n",
        "  encoder_input.append(encoded_line)\n",
        "print(\"샘플 => encoder_input[:5] :\", encoder_input[:5])"
      ]
    },
    {
      "cell_type": "code",
      "execution_count": 22,
      "metadata": {
        "id": "RkSpL0W2qegv"
      },
      "outputs": [],
      "source": [
        "# encoder_input"
      ]
    },
    {
      "cell_type": "markdown",
      "metadata": {
        "id": "_T3e67FsrD94"
      },
      "source": [
        "### 프랑스어 문장 $\\to$ 정수 인코딩\n",
        "- 디코더의 입력"
      ]
    },
    {
      "cell_type": "code",
      "execution_count": 23,
      "metadata": {
        "colab": {
          "base_uri": "https://localhost:8080/"
        },
        "id": "Kt5JvxZbrVDk",
        "outputId": "cc90d418-203e-4208-e041-ef92bc84f6ae"
      },
      "outputs": [
        {
          "name": "stdout",
          "output_type": "stream",
          "text": [
            "{'\\t': 1, '\\n': 2, ' ': 3, '!': 4, '\"': 5, '$': 6, '%': 7, '&': 8, \"'\": 9, '(': 10, ')': 11, ',': 12, '-': 13, '.': 14, '0': 15, '1': 16, '2': 17, '3': 18, '4': 19, '5': 20, '6': 21, '7': 22, '8': 23, '9': 24, ':': 25, '?': 26, 'A': 27, 'B': 28, 'C': 29, 'D': 30, 'E': 31, 'F': 32, 'G': 33, 'H': 34, 'I': 35, 'J': 36, 'K': 37, 'L': 38, 'M': 39, 'N': 40, 'O': 41, 'P': 42, 'Q': 43, 'R': 44, 'S': 45, 'T': 46, 'U': 47, 'V': 48, 'W': 49, 'X': 50, 'Y': 51, 'Z': 52, 'a': 53, 'b': 54, 'c': 55, 'd': 56, 'e': 57, 'f': 58, 'g': 59, 'h': 60, 'i': 61, 'j': 62, 'k': 63, 'l': 64, 'm': 65, 'n': 66, 'o': 67, 'p': 68, 'q': 69, 'r': 70, 's': 71, 't': 72, 'u': 73, 'v': 74, 'w': 75, 'x': 76, 'y': 77, 'z': 78, '\\xa0': 79, '«': 80, '»': 81, 'À': 82, 'Ç': 83, 'É': 84, 'Ê': 85, 'Ô': 86, 'à': 87, 'â': 88, 'ç': 89, 'è': 90, 'é': 91, 'ê': 92, 'ë': 93, 'î': 94, 'ï': 95, 'ô': 96, 'ù': 97, 'û': 98, 'œ': 99, '\\u2009': 100, '\\u200b': 101, '‘': 102, '’': 103, '\\u202f': 104}\n"
          ]
        }
      ],
      "source": [
        "print(tar_to_index)"
      ]
    },
    {
      "cell_type": "code",
      "execution_count": 24,
      "metadata": {
        "colab": {
          "base_uri": "https://localhost:8080/"
        },
        "id": "b0TkSwBErjL2",
        "outputId": "82a42094-c3d9-4bdf-c1f5-a7a6a3dc6cc2"
      },
      "outputs": [
        {
          "data": {
            "text/plain": [
              "0                                    \\t Va ! \\n\n",
              "1                                 \\t Marche. \\n\n",
              "2                                 \\t Bouge ! \\n\n",
              "3                                 \\t Salut ! \\n\n",
              "4                                  \\t Salut. \\n\n",
              "                          ...                  \n",
              "59995        \\t Pourquoi feraient-elles ça ? \\n\n",
              "59996      \\t Pourquoi demanderais-tu cela ? \\n\n",
              "59997    \\t Pourquoi demanderiez-vous cela ? \\n\n",
              "59998           \\t Pourquoi dirais-tu cela ? \\n\n",
              "59999         \\t Pourquoi diriez-vous cela ? \\n\n",
              "Name: tar, Length: 60000, dtype: object"
            ]
          },
          "execution_count": 24,
          "metadata": {},
          "output_type": "execute_result"
        }
      ],
      "source": [
        "lines.tar"
      ]
    },
    {
      "cell_type": "code",
      "execution_count": 25,
      "metadata": {
        "colab": {
          "base_uri": "https://localhost:8080/",
          "height": 0
        },
        "id": "ewAz4uAtsRIc",
        "outputId": "630e6300-7da8-4903-ec1e-41cd9825cf1c"
      },
      "outputs": [
        {
          "data": {
            "application/vnd.google.colaboratory.intrinsic+json": {
              "type": "string"
            },
            "text/plain": [
              "'\\t Va ! \\n'"
            ]
          },
          "execution_count": 25,
          "metadata": {},
          "output_type": "execute_result"
        }
      ],
      "source": [
        "lines.tar[0]"
      ]
    },
    {
      "cell_type": "code",
      "execution_count": 26,
      "metadata": {
        "colab": {
          "base_uri": "https://localhost:8080/",
          "height": 0
        },
        "id": "IXTbhvRWsTUF",
        "outputId": "076c9b22-13cf-4de0-f52f-c66a8fe3c931"
      },
      "outputs": [
        {
          "data": {
            "application/vnd.google.colaboratory.intrinsic+json": {
              "type": "string"
            },
            "text/plain": [
              "'V'"
            ]
          },
          "execution_count": 26,
          "metadata": {},
          "output_type": "execute_result"
        }
      ],
      "source": [
        "lines.tar[0][2]"
      ]
    },
    {
      "cell_type": "code",
      "execution_count": 27,
      "metadata": {
        "colab": {
          "base_uri": "https://localhost:8080/"
        },
        "id": "P55uSgETs3qe",
        "outputId": "f1f11825-9e06-4c08-89a2-8324666781fb"
      },
      "outputs": [
        {
          "data": {
            "text/plain": [
              "48"
            ]
          },
          "execution_count": 27,
          "metadata": {},
          "output_type": "execute_result"
        }
      ],
      "source": [
        "tar_to_index[lines.tar[0][2]]"
      ]
    },
    {
      "cell_type": "code",
      "execution_count": 28,
      "metadata": {
        "colab": {
          "base_uri": "https://localhost:8080/",
          "height": 0
        },
        "id": "pfPmmakFtAO6",
        "outputId": "0d6c0358-e775-4f3e-8de7-e09165330314"
      },
      "outputs": [
        {
          "data": {
            "application/vnd.google.colaboratory.intrinsic+json": {
              "type": "string"
            },
            "text/plain": [
              "'V'"
            ]
          },
          "execution_count": 28,
          "metadata": {},
          "output_type": "execute_result"
        }
      ],
      "source": [
        "list(tar_to_index)[47]"
      ]
    },
    {
      "cell_type": "code",
      "execution_count": 29,
      "metadata": {
        "colab": {
          "base_uri": "https://localhost:8080/"
        },
        "id": "SmXeS10jqonW",
        "outputId": "9cf839db-46c4-44dd-fa49-491ac290a0cf"
      },
      "outputs": [
        {
          "name": "stdout",
          "output_type": "stream",
          "text": [
            "샘플 => decoder_input[:5] : [[1, 3, 48, 53, 3, 4, 3, 2], [1, 3, 39, 53, 70, 55, 60, 57, 14, 3, 2], [1, 3, 28, 67, 73, 59, 57, 3, 4, 3, 2], [1, 3, 45, 53, 64, 73, 72, 3, 4, 3, 2], [1, 3, 45, 53, 64, 73, 72, 14, 3, 2]]\n"
          ]
        }
      ],
      "source": [
        "decoder_input = []\n",
        "\n",
        "for line in lines.tar:\n",
        "  encoded_line = []\n",
        "  for char in line:\n",
        "    encoded_line.append(tar_to_index[char])\n",
        "  decoder_input.append(encoded_line)\n",
        "\n",
        "print(\"샘플 => decoder_input[:5] :\", decoder_input[:5])"
      ]
    },
    {
      "cell_type": "markdown",
      "metadata": {
        "id": "RSY0UC-2uQDN"
      },
      "source": [
        "### 프랑스어 문장의 `\\t` 제거\n",
        "- target data로 사용될 프랑스어 문장의 경우에는 \\<sos>에 해당되는 `\\t`가 있을 필요가 없다. 따라서 제거해주도록 한다.  \n",
        "\n",
        "`-` 참고\n",
        "- `\\t`의 인덱스는 `1`이므로 decoder_target을 출력할 경우, 1이 제거된 것을 확인하도록 한다."
      ]
    },
    {
      "cell_type": "code",
      "execution_count": 30,
      "metadata": {
        "colab": {
          "base_uri": "https://localhost:8080/"
        },
        "id": "FNayPpaguHGh",
        "outputId": "60e97dfa-3bf4-48ab-cf27-baba778c1741"
      },
      "outputs": [
        {
          "name": "stdout",
          "output_type": "stream",
          "text": [
            "샘플 => decoder_taget[:5] : [[3, 48, 53, 3, 4, 3, 2], [3, 39, 53, 70, 55, 60, 57, 14, 3, 2], [3, 28, 67, 73, 59, 57, 3, 4, 3, 2], [3, 45, 53, 64, 73, 72, 3, 4, 3, 2], [3, 45, 53, 64, 73, 72, 14, 3, 2]]\n"
          ]
        }
      ],
      "source": [
        "decoder_target = []\n",
        "for line in lines.tar:\n",
        "  timestep = 0\n",
        "  encoded_line = []\n",
        "  for char in line:\n",
        "    if timestep > 0:\n",
        "      encoded_line.append(tar_to_index[char])\n",
        "    timestep = timestep + 1\n",
        "  decoder_target.append(encoded_line)\n",
        "print(\"샘플 => decoder_taget[:5] :\", decoder_target[:5])"
      ]
    },
    {
      "cell_type": "markdown",
      "metadata": {
        "id": "s52TPv5kv8-W"
      },
      "source": [
        "## 패딩"
      ]
    },
    {
      "cell_type": "markdown",
      "metadata": {
        "id": "Bks650o8wP9I"
      },
      "source": [
        "`-` 패딩을 위해 가장 길이가 긴 샘플의 길이 확인"
      ]
    },
    {
      "cell_type": "code",
      "execution_count": 31,
      "metadata": {
        "colab": {
          "base_uri": "https://localhost:8080/"
        },
        "id": "PuWUo_uXvc_U",
        "outputId": "b82a5012-fc7b-4ab4-f50c-b1a7e80b36a2"
      },
      "outputs": [
        {
          "name": "stdout",
          "output_type": "stream",
          "text": [
            "max_src_len : 23\n",
            "max_tar_len : 76\n"
          ]
        }
      ],
      "source": [
        "max_src_len = max([len(line) for line in lines.src])\n",
        "max_tar_len = max([len(line) for line in lines.tar])\n",
        "print(\"max_src_len :\", max_src_len)\n",
        "print(\"max_tar_len :\", max_tar_len)"
      ]
    },
    {
      "cell_type": "code",
      "execution_count": 32,
      "metadata": {
        "id": "PKZnZHCfwuVn"
      },
      "outputs": [],
      "source": [
        "# help(pad_sequences)"
      ]
    },
    {
      "cell_type": "code",
      "execution_count": 33,
      "metadata": {
        "id": "eWs-LarBwOaJ"
      },
      "outputs": [],
      "source": [
        "encoder_input = pad_sequences(encoder_input, maxlen=max_src_len, padding='post')\n",
        "decoder_input = pad_sequences(decoder_input, maxlen=max_tar_len, padding='post')\n",
        "decoder_target = pad_sequences(decoder_target, maxlen=max_tar_len, padding='post')"
      ]
    },
    {
      "cell_type": "markdown",
      "metadata": {
        "id": "I6OmIRz5xWX5"
      },
      "source": [
        "## 원-핫 인코딩"
      ]
    },
    {
      "cell_type": "code",
      "execution_count": 34,
      "metadata": {
        "id": "-MDT5Za9w819"
      },
      "outputs": [],
      "source": [
        "encoder_input = to_categorical(encoder_input)\n",
        "decoder_input = to_categorical(decoder_input)\n",
        "decoder_target = to_categorical(decoder_target)"
      ]
    },
    {
      "cell_type": "code",
      "execution_count": 35,
      "metadata": {
        "colab": {
          "base_uri": "https://localhost:8080/"
        },
        "id": "We5YQ48dyA4j",
        "outputId": "107435b9-b60c-49ed-dc8c-6a2f728db0ac"
      },
      "outputs": [
        {
          "data": {
            "text/plain": [
              "array([[[0., 0., 0., ..., 0., 0., 0.],\n",
              "        [0., 0., 0., ..., 0., 0., 0.],\n",
              "        [0., 0., 0., ..., 0., 0., 0.],\n",
              "        ...,\n",
              "        [1., 0., 0., ..., 0., 0., 0.],\n",
              "        [1., 0., 0., ..., 0., 0., 0.],\n",
              "        [1., 0., 0., ..., 0., 0., 0.]],\n",
              "\n",
              "       [[0., 0., 0., ..., 0., 0., 0.],\n",
              "        [0., 0., 0., ..., 0., 0., 0.],\n",
              "        [0., 0., 0., ..., 0., 0., 0.],\n",
              "        ...,\n",
              "        [1., 0., 0., ..., 0., 0., 0.],\n",
              "        [1., 0., 0., ..., 0., 0., 0.],\n",
              "        [1., 0., 0., ..., 0., 0., 0.]],\n",
              "\n",
              "       [[0., 0., 0., ..., 0., 0., 0.],\n",
              "        [0., 0., 0., ..., 0., 0., 0.],\n",
              "        [0., 0., 0., ..., 0., 0., 0.],\n",
              "        ...,\n",
              "        [1., 0., 0., ..., 0., 0., 0.],\n",
              "        [1., 0., 0., ..., 0., 0., 0.],\n",
              "        [1., 0., 0., ..., 0., 0., 0.]],\n",
              "\n",
              "       ...,\n",
              "\n",
              "       [[0., 0., 0., ..., 0., 0., 0.],\n",
              "        [0., 0., 0., ..., 0., 0., 0.],\n",
              "        [0., 0., 0., ..., 0., 0., 0.],\n",
              "        ...,\n",
              "        [0., 0., 0., ..., 0., 0., 0.],\n",
              "        [0., 0., 0., ..., 0., 0., 0.],\n",
              "        [0., 0., 0., ..., 0., 0., 0.]],\n",
              "\n",
              "       [[0., 0., 0., ..., 0., 0., 0.],\n",
              "        [0., 0., 0., ..., 0., 0., 0.],\n",
              "        [0., 0., 0., ..., 0., 0., 0.],\n",
              "        ...,\n",
              "        [0., 0., 0., ..., 0., 0., 0.],\n",
              "        [0., 0., 0., ..., 0., 0., 0.],\n",
              "        [0., 0., 0., ..., 0., 0., 0.]],\n",
              "\n",
              "       [[0., 0., 0., ..., 0., 0., 0.],\n",
              "        [0., 0., 0., ..., 0., 0., 0.],\n",
              "        [0., 0., 0., ..., 0., 0., 0.],\n",
              "        ...,\n",
              "        [0., 0., 0., ..., 0., 0., 0.],\n",
              "        [0., 0., 0., ..., 0., 0., 0.],\n",
              "        [0., 0., 0., ..., 0., 0., 0.]]], dtype=float32)"
            ]
          },
          "execution_count": 35,
          "metadata": {},
          "output_type": "execute_result"
        }
      ],
      "source": [
        "encoder_input"
      ]
    },
    {
      "cell_type": "markdown",
      "metadata": {
        "id": "AEiFYYRtyFiz"
      },
      "source": [
        "# 교사 강요(Teacher forcing)\n",
        "- 아래의 모든 내용은 `Reference`에서 복사 붙여넣기한 것임을 알려드립니다.  \n",
        "\n",
        "`-` Reference : https://wikidocs.net/24996  \n",
        "\n",
        "모델을 설계하기 전에 혹시 의아한 점은 없으신가요? 현재 시점의 디코더 셀의 입력은 오직 이전 디코더 셀의 출력을 입력으로 받는다고 설명하였는데 decoder_input이 왜 필요할까요?\n",
        "\n",
        "훈련 과정에서는 이전 시점의 디코더 셀의 출력을 현재 시점의 디코더 셀의 입력으로 넣어주지 않고, 이전 시점의 실제값을 현재 시점의 디코더 셀의 입력값으로 하는 방법을 사용할 겁니다. 그 이유는 이전 시점의 디코더 셀의 예측이 틀렸는데 이를 현재 시점의 디코더 셀의 입력으로 사용하면 현재 시점의 디코더 셀의 예측도 잘못될 가능성이 높고 이는 연쇄 작용으로 디코더 전체의 예측을 어렵게 합니다. 이런 상황이 반복되면 훈련 시간이 느려집니다. 만약 이 상황을 원하지 않는다면 이전 시점의 디코더 셀의 예측값 대신 실제값을 현재 시점의 디코더 셀의 입력으로 사용하는 방법을 사용할 수 있습니다. 이와 같이 RNN의 모든 시점에 대해서 이전 시점의 예측값 대신 실제값을 입력으로 주는 방법을 교사 강요라고 합니다."
      ]
    },
    {
      "cell_type": "markdown",
      "metadata": {
        "id": "FELfYklRy025"
      },
      "source": [
        "# seq2seq 기계 번역기 훈련시키기"
      ]
    },
    {
      "cell_type": "code",
      "execution_count": 36,
      "metadata": {
        "id": "fdlnE_TgyJX2"
      },
      "outputs": [],
      "source": [
        "from tensorflow.keras.layers import Input, LSTM, Embedding, Dense\n",
        "from tensorflow.keras.models import Model\n",
        "import numpy as np"
      ]
    },
    {
      "cell_type": "markdown",
      "metadata": {
        "id": "2iMYJz7lD4Rs"
      },
      "source": [
        "`-` [tensorflow.keras.layers.Input](https://keras.io/api/layers/core_layers/input/)  \n",
        "`-` [tensorflow.keras.layers.LSTM](https://keras.io/api/layers/recurrent_layers/lstm/)  \n",
        "`-` [return_sequences_1](https://tykimos.github.io/2017/04/09/RNN_Getting_Started/)  \n",
        "`-` [return_sequences_2](https://wikidocs.net/106473)  \n",
        "`-` [Model class](https://keras.io/api/models/model/)  \n",
        "`-` [model.compile, model.fit, model.predict](https://datascience.stackexchange.com/questions/46124/what-do-compile-fit-and-predict-do-in-keras-sequential-models)"
      ]
    },
    {
      "cell_type": "code",
      "execution_count": 95,
      "metadata": {
        "id": "brp3K2Ify8rY"
      },
      "outputs": [],
      "source": [
        "# batch_size를 제외한 shape\n",
        "encoder_inputs = Input(shape=(None, src_vocab_size))\n",
        "# units => 은닉 상태 크기, return_state => 인코더의 마지막 내부 상태를 디코더로 넘겨주기 위해 True\n",
        "encoder_lstm = LSTM(units=256, return_state=True)\n",
        "\n",
        "# encoder_outputs은 학습할 때 불필요, 나중에 테스트할 때 사용\n",
        "encoder_outputs, state_h, state_c = encoder_lstm(encoder_inputs)\n",
        "\n",
        "# LSTM은 바닐라 RNN과는 달리 상태가 두 개. 은닉 상태와 셀 상태.\n",
        "encoder_states = [state_h, state_c]"
      ]
    },
    {
      "cell_type": "code",
      "execution_count": 96,
      "metadata": {
        "id": "W3JWrP9Py9--"
      },
      "outputs": [],
      "source": [
        "decoder_inputs = Input(shape=(None, tar_vocab_size))\n",
        "# return_sequences =>  Boolean. Whether to return the last output in the output sequence, \n",
        "# or the full sequence. Default: False.\n",
        "decoder_lstm = LSTM(units=256, return_sequences=True, return_state=True)\n",
        "\n",
        "# 디코더에게 인코더의 은닉 상태, 셀 상태를 전달. => context vector\n",
        "decoder_outputs, _, _= decoder_lstm(decoder_inputs, initial_state=encoder_states)\n",
        "\n",
        "decoder_softmax_layer = Dense(tar_vocab_size, activation='softmax')\n",
        "decoder_outputs = decoder_softmax_layer(decoder_outputs)\n",
        "\n",
        "# Model(input, output)\n",
        "model = Model([encoder_inputs, decoder_inputs], decoder_outputs)\n",
        "model.compile(optimizer=\"rmsprop\", loss=\"categorical_crossentropy\")"
      ]
    },
    {
      "cell_type": "code",
      "execution_count": 97,
      "metadata": {
        "colab": {
          "base_uri": "https://localhost:8080/"
        },
        "id": "8O28SoxDy_Wr",
        "outputId": "c5288d64-cafa-4424-c2da-894e8de63ffa"
      },
      "outputs": [
        {
          "name": "stdout",
          "output_type": "stream",
          "text": [
            "Epoch 1/40\n",
            "750/750 [==============================] - 37s 45ms/step - loss: 0.7489 - val_loss: 0.6644\n",
            "Epoch 2/40\n",
            "750/750 [==============================] - 32s 43ms/step - loss: 0.4596 - val_loss: 0.5396\n",
            "Epoch 3/40\n",
            "750/750 [==============================] - 32s 43ms/step - loss: 0.3841 - val_loss: 0.4723\n",
            "Epoch 4/40\n",
            "750/750 [==============================] - 32s 43ms/step - loss: 0.3413 - val_loss: 0.4365\n",
            "Epoch 5/40\n",
            "750/750 [==============================] - 32s 43ms/step - loss: 0.3123 - val_loss: 0.4108\n",
            "Epoch 6/40\n",
            "750/750 [==============================] - 32s 43ms/step - loss: 0.2912 - val_loss: 0.3933\n",
            "Epoch 7/40\n",
            "750/750 [==============================] - 33s 43ms/step - loss: 0.2749 - val_loss: 0.3813\n",
            "Epoch 8/40\n",
            "750/750 [==============================] - 32s 43ms/step - loss: 0.2617 - val_loss: 0.3706\n",
            "Epoch 9/40\n",
            "750/750 [==============================] - 32s 43ms/step - loss: 0.2506 - val_loss: 0.3636\n",
            "Epoch 10/40\n",
            "750/750 [==============================] - 32s 43ms/step - loss: 0.2412 - val_loss: 0.3591\n",
            "Epoch 11/40\n",
            "750/750 [==============================] - 32s 43ms/step - loss: 0.2329 - val_loss: 0.3570\n",
            "Epoch 12/40\n",
            "750/750 [==============================] - 32s 43ms/step - loss: 0.2256 - val_loss: 0.3524\n",
            "Epoch 13/40\n",
            "750/750 [==============================] - 32s 42ms/step - loss: 0.2190 - val_loss: 0.3517\n",
            "Epoch 14/40\n",
            "750/750 [==============================] - 32s 43ms/step - loss: 0.2129 - val_loss: 0.3497\n",
            "Epoch 15/40\n",
            "750/750 [==============================] - 32s 42ms/step - loss: 0.2075 - val_loss: 0.3478\n",
            "Epoch 16/40\n",
            "750/750 [==============================] - 34s 45ms/step - loss: 0.2023 - val_loss: 0.3492\n",
            "Epoch 17/40\n",
            "750/750 [==============================] - 32s 43ms/step - loss: 0.1976 - val_loss: 0.3486\n",
            "Epoch 18/40\n",
            "750/750 [==============================] - 32s 42ms/step - loss: 0.1932 - val_loss: 0.3478\n",
            "Epoch 19/40\n",
            "750/750 [==============================] - 32s 43ms/step - loss: 0.1891 - val_loss: 0.3505\n",
            "Epoch 20/40\n",
            "750/750 [==============================] - 32s 42ms/step - loss: 0.1851 - val_loss: 0.3520\n",
            "Epoch 21/40\n",
            "750/750 [==============================] - 32s 43ms/step - loss: 0.1815 - val_loss: 0.3524\n",
            "Epoch 22/40\n",
            "750/750 [==============================] - 32s 43ms/step - loss: 0.1779 - val_loss: 0.3531\n",
            "Epoch 23/40\n",
            "750/750 [==============================] - 32s 42ms/step - loss: 0.1746 - val_loss: 0.3568\n",
            "Epoch 24/40\n",
            "750/750 [==============================] - 32s 42ms/step - loss: 0.1716 - val_loss: 0.3579\n",
            "Epoch 25/40\n",
            "750/750 [==============================] - 32s 42ms/step - loss: 0.1685 - val_loss: 0.3610\n",
            "Epoch 26/40\n",
            "750/750 [==============================] - 32s 43ms/step - loss: 0.1656 - val_loss: 0.3612\n",
            "Epoch 27/40\n",
            "750/750 [==============================] - 32s 42ms/step - loss: 0.1628 - val_loss: 0.3656\n",
            "Epoch 28/40\n",
            "750/750 [==============================] - 32s 42ms/step - loss: 0.1602 - val_loss: 0.3667\n",
            "Epoch 29/40\n",
            "750/750 [==============================] - 32s 43ms/step - loss: 0.1576 - val_loss: 0.3697\n",
            "Epoch 30/40\n",
            "750/750 [==============================] - 32s 43ms/step - loss: 0.1552 - val_loss: 0.3720\n",
            "Epoch 31/40\n",
            "750/750 [==============================] - 32s 43ms/step - loss: 0.1530 - val_loss: 0.3748\n",
            "Epoch 32/40\n",
            "750/750 [==============================] - 32s 42ms/step - loss: 0.1507 - val_loss: 0.3785\n",
            "Epoch 33/40\n",
            "750/750 [==============================] - 32s 42ms/step - loss: 0.1486 - val_loss: 0.3801\n",
            "Epoch 34/40\n",
            "750/750 [==============================] - 32s 43ms/step - loss: 0.1466 - val_loss: 0.3814\n",
            "Epoch 35/40\n",
            "750/750 [==============================] - 33s 44ms/step - loss: 0.1447 - val_loss: 0.3846\n",
            "Epoch 36/40\n",
            "750/750 [==============================] - 33s 43ms/step - loss: 0.1427 - val_loss: 0.3902\n",
            "Epoch 37/40\n",
            "750/750 [==============================] - 32s 43ms/step - loss: 0.1409 - val_loss: 0.3940\n",
            "Epoch 38/40\n",
            "750/750 [==============================] - 31s 42ms/step - loss: 0.1392 - val_loss: 0.3924\n",
            "Epoch 39/40\n",
            "750/750 [==============================] - 32s 43ms/step - loss: 0.1375 - val_loss: 0.3960\n",
            "Epoch 40/40\n",
            "750/750 [==============================] - 32s 42ms/step - loss: 0.1359 - val_loss: 0.4000\n"
          ]
        },
        {
          "data": {
            "text/plain": [
              "<keras.callbacks.History at 0x7f1435a5b890>"
            ]
          },
          "execution_count": 97,
          "metadata": {},
          "output_type": "execute_result"
        }
      ],
      "source": [
        "model.fit(x=[encoder_input, decoder_input], y=decoder_target, batch_size=64, epochs=40, validation_split=0.2)"
      ]
    },
    {
      "cell_type": "markdown",
      "metadata": {
        "id": "bN9lOKYzzCc4"
      },
      "source": [
        "# seq2seq 기계 번역기 동작시키기"
      ]
    },
    {
      "cell_type": "code",
      "execution_count": 98,
      "metadata": {
        "id": "vIOv_h5ozAkG"
      },
      "outputs": [],
      "source": [
        "encoder_model = Model(inputs=encoder_inputs, outputs=encoder_states)"
      ]
    },
    {
      "cell_type": "code",
      "execution_count": 99,
      "metadata": {
        "id": "gKy7O4pBzG7R"
      },
      "outputs": [],
      "source": [
        "# 이전 시점의 상태들을 저장하는 텐서\n",
        "decoder_state_input_h = Input(shape=(256,))\n",
        "decoder_state_input_c = Input(shape=(256,))\n",
        "decoder_states_inputs = [decoder_state_input_h, decoder_state_input_c]\n",
        "\n",
        "# 문장의 다음 단어를 예측하기 위해서 초기 상태(initial_state)를 이전 시점의 상태로 사용.\n",
        "# 뒤의 함수 decode_sequence()에 동작을 구현 예정\n",
        "decoder_outputs, state_h, state_c = decoder_lstm(decoder_inputs, initial_state=decoder_states_inputs)\n",
        "\n",
        "# 훈련 과정에서와 달리 LSTM의 리턴하는 은닉 상태와 셀 상태를 버리지 않음.\n",
        "decoder_states = [state_h, state_c]\n",
        "decoder_outputs = decoder_softmax_layer(decoder_outputs)\n",
        "decoder_model = Model(inputs=[decoder_inputs] + decoder_states_inputs, outputs=[decoder_outputs] + decoder_states)"
      ]
    },
    {
      "cell_type": "code",
      "execution_count": 42,
      "metadata": {
        "id": "T-CljcA7zIrO"
      },
      "outputs": [],
      "source": [
        "index_to_src = dict((i, char) for char, i in src_to_index.items())\n",
        "index_to_tar = dict((i, char) for char, i in tar_to_index.items())"
      ]
    },
    {
      "cell_type": "code",
      "execution_count": 110,
      "metadata": {
        "colab": {
          "base_uri": "https://localhost:8080/"
        },
        "id": "jI05cF1rSyiW",
        "outputId": "1bbf9f9d-16e9-4ea8-e905-79fc4262dfc3"
      },
      "outputs": [
        {
          "name": "stdout",
          "output_type": "stream",
          "text": [
            "src_to_index : {' ': 1, '!': 2, '\"': 3, '$': 4, '%': 5, '&': 6, \"'\": 7, ',': 8, '-': 9, '.': 10, '/': 11, '0': 12, '1': 13, '2': 14, '3': 15, '4': 16, '5': 17, '6': 18, '7': 19, '8': 20, '9': 21, ':': 22, '?': 23, 'A': 24, 'B': 25, 'C': 26, 'D': 27, 'E': 28, 'F': 29, 'G': 30, 'H': 31, 'I': 32, 'J': 33, 'K': 34, 'L': 35, 'M': 36, 'N': 37, 'O': 38, 'P': 39, 'Q': 40, 'R': 41, 'S': 42, 'T': 43, 'U': 44, 'V': 45, 'W': 46, 'X': 47, 'Y': 48, 'Z': 49, 'a': 50, 'b': 51, 'c': 52, 'd': 53, 'e': 54, 'f': 55, 'g': 56, 'h': 57, 'i': 58, 'j': 59, 'k': 60, 'l': 61, 'm': 62, 'n': 63, 'o': 64, 'p': 65, 'q': 66, 'r': 67, 's': 68, 't': 69, 'u': 70, 'v': 71, 'w': 72, 'x': 73, 'y': 74, 'z': 75, '°': 76, 'é': 77, '’': 78, '€': 79}\n",
            "index_to_src : {1: ' ', 2: '!', 3: '\"', 4: '$', 5: '%', 6: '&', 7: \"'\", 8: ',', 9: '-', 10: '.', 11: '/', 12: '0', 13: '1', 14: '2', 15: '3', 16: '4', 17: '5', 18: '6', 19: '7', 20: '8', 21: '9', 22: ':', 23: '?', 24: 'A', 25: 'B', 26: 'C', 27: 'D', 28: 'E', 29: 'F', 30: 'G', 31: 'H', 32: 'I', 33: 'J', 34: 'K', 35: 'L', 36: 'M', 37: 'N', 38: 'O', 39: 'P', 40: 'Q', 41: 'R', 42: 'S', 43: 'T', 44: 'U', 45: 'V', 46: 'W', 47: 'X', 48: 'Y', 49: 'Z', 50: 'a', 51: 'b', 52: 'c', 53: 'd', 54: 'e', 55: 'f', 56: 'g', 57: 'h', 58: 'i', 59: 'j', 60: 'k', 61: 'l', 62: 'm', 63: 'n', 64: 'o', 65: 'p', 66: 'q', 67: 'r', 68: 's', 69: 't', 70: 'u', 71: 'v', 72: 'w', 73: 'x', 74: 'y', 75: 'z', 76: '°', 77: 'é', 78: '’', 79: '€'}\n"
          ]
        }
      ],
      "source": [
        "print(\"src_to_index :\", src_to_index)\n",
        "print(\"index_to_src :\", index_to_src)"
      ]
    },
    {
      "cell_type": "code",
      "execution_count": 114,
      "metadata": {
        "id": "FrYxBrbOzK61"
      },
      "outputs": [],
      "source": [
        "def decode_sequence(input_seq):\n",
        "  # 입력으로부터 인코더의 상태를 얻음\n",
        "  states_value = encoder_model.predict(input_seq)\n",
        "\n",
        "  # <SOS>에 해당하는 원-핫 벡터 생성\n",
        "  target_seq = np.zeros((1, 1, tar_vocab_size))\n",
        "  target_seq[0, 0, tar_to_index['\\t']] = 1.\n",
        "\n",
        "  stop_condition = False\n",
        "  decoded_sentence = \"\"\n",
        "\n",
        "  # stop_condition이 True가 될 때까지 루프 반복\n",
        "  while not stop_condition:\n",
        "    # 이점 시점의 상태 states_value를 현 시점의 초기 상태로 사용\n",
        "    output_tokens, h, c = decoder_model.predict([target_seq] + states_value)\n",
        "\n",
        "    # 예측 결과를 문자로 변환\n",
        "    sampled_token_index = np.argmax(output_tokens[0, -1, :])\n",
        "    sampled_char = index_to_tar[sampled_token_index]\n",
        "\n",
        "    # 현재 시점의 예측 문자를 예측 문장에 추가\n",
        "    decoded_sentence += sampled_char\n",
        "\n",
        "    # <eos>에 도달하거나 최대 길이를 넘으면 중단.\n",
        "    if (sampled_char == '\\n' or\n",
        "        len(decoded_sentence) > max_tar_len):\n",
        "        stop_condition = True\n",
        "\n",
        "    # 현재 시점의 예측 결과를 다음 시점의 입력으로 사용하기 위해 저장\n",
        "    target_seq = np.zeros((1, 1, tar_vocab_size))\n",
        "    target_seq[0, 0, sampled_token_index] = 1.\n",
        "\n",
        "    # 현재 시점의 상태를 다음 시점의 상태로 사용하기 위해 저장\n",
        "    states_value = [h, c]\n",
        "\n",
        "  return decoded_sentence"
      ]
    },
    {
      "cell_type": "code",
      "execution_count": 118,
      "metadata": {
        "colab": {
          "base_uri": "https://localhost:8080/"
        },
        "id": "aDGP2DTFU3S6",
        "outputId": "4c850188-535d-4c6c-b7f2-f03d3db26157"
      },
      "outputs": [
        {
          "data": {
            "text/plain": [
              "(60000, 23, 80)"
            ]
          },
          "execution_count": 118,
          "metadata": {},
          "output_type": "execute_result"
        }
      ],
      "source": [
        "encoder_input.shape"
      ]
    },
    {
      "cell_type": "code",
      "execution_count": 115,
      "metadata": {
        "colab": {
          "base_uri": "https://localhost:8080/"
        },
        "id": "dRrKj6ddzMfD",
        "outputId": "133b4beb-34e3-4258-f1b2-3b153aefdc1b"
      },
      "outputs": [
        {
          "name": "stdout",
          "output_type": "stream",
          "text": [
            "-----------------------------------\n",
            "입력 문장: Hi.\n",
            "정답 문장: Salut ! \n",
            "번역 문장: Salut. \n",
            "-----------------------------------\n",
            "입력 문장: I see.\n",
            "정답 문장: Aha. \n",
            "번역 문장: Je comprends. \n",
            "-----------------------------------\n",
            "입력 문장: Hug me.\n",
            "정답 문장: Serrez-moi dans vos bras ! \n",
            "번역 문장: Ferme-la. \n",
            "-----------------------------------\n",
            "입력 문장: Help me.\n",
            "정답 문장: Aidez-moi. \n",
            "번역 문장: Aidez-moi ! \n",
            "-----------------------------------\n",
            "입력 문장: I am sure.\n",
            "정답 문장: Je suis sûr. \n",
            "번역 문장: Je suis content. \n"
          ]
        }
      ],
      "source": [
        "for seq_index in [3,50,100,300,1001]: # 입력 문장의 인덱스\n",
        "  input_seq = encoder_input[seq_index:seq_index+1]\n",
        "  decoded_sentence = decode_sequence(input_seq)\n",
        "  print(35 * \"-\")\n",
        "  print('입력 문장:', lines.src[seq_index])\n",
        "  print('정답 문장:', lines.tar[seq_index][2:len(lines.tar[seq_index])-1]) # '\\t'와 '\\n'을 빼고 출력\n",
        "  print('번역 문장:', decoded_sentence[1:len(decoded_sentence)-1]) # '\\n'을 빼고 출력"
      ]
    }
  ],
  "metadata": {
    "accelerator": "GPU",
    "colab": {
      "authorship_tag": "ABX9TyOcEwpUDZU+EekuaFQqRDS5",
      "collapsed_sections": [
        "PlilFC3Umqz5",
        "5JEWjq4Fonnp",
        "htx8aOTnq3Ec",
        "_T3e67FsrD94",
        "RSY0UC-2uQDN"
      ],
      "include_colab_link": true,
      "name": "seq2seq_tf.ipynb",
      "provenance": []
    },
    "kernelspec": {
      "display_name": "Python 3.6.9 64-bit",
      "language": "python",
      "name": "python3"
    },
    "language_info": {
      "name": "python",
      "version": "3.6.9"
    },
    "vscode": {
      "interpreter": {
        "hash": "31f2aee4e71d21fbe5cf8b01ff0e069b9275f58929596ceb00d14d90e3e16cd6"
      }
    }
  },
  "nbformat": 4,
  "nbformat_minor": 0
}
