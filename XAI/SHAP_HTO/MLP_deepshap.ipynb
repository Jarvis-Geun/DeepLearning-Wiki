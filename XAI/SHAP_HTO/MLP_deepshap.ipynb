{
  "cells": [
    {
      "attachments": {},
      "cell_type": "markdown",
      "metadata": {},
      "source": [
        "<a href=\"https://colab.research.google.com/github/Jarvis-Geun/DeepLearning-Wiki/blob/main/XAI/SHAP_HTO/MLP_deepshap.ipynb\" target=\"_parent\"><img src=\"https://colab.research.google.com/assets/colab-badge.svg\" alt=\"Open In Colab\"/></a>"
      ]
    },
    {
      "cell_type": "markdown",
      "metadata": {
        "id": "E19P3wK6Nwyj"
      },
      "source": [
        "# Neural Network model with SHAP"
      ]
    },
    {
      "cell_type": "markdown",
      "metadata": {
        "id": "ENp8U6kN4-1Z"
      },
      "source": [
        "`-` Reference\n",
        "- [Using SHAP Values to Explain How Your Machine Learning Model Works](https://towardsdatascience.com/using-shap-values-to-explain-how-your-machine-learning-model-works-732b3f40e137)\n",
        "- [SHAP Values.ipynb](https://github.com/vinyluis/Articles/blob/main/Boruta%20SHAP/SHAP%20Values.ipynb)\n",
        "- [SHAP latest documentation](https://shap-lrjball.readthedocs.io/en/latest/examples.html#tree-explainer-examples)"
      ]
    },
    {
      "cell_type": "markdown",
      "metadata": {
        "id": "bHrJO0MCk2T-"
      },
      "source": [
        "## 1. Import"
      ]
    },
    {
      "cell_type": "code",
      "execution_count": 24,
      "metadata": {
        "id": "t7S_1ZFUktsM"
      },
      "outputs": [],
      "source": [
        "from glob import glob\n",
        "import pandas as pd\n",
        "import numpy as np\n",
        "import matplotlib.pyplot as plt\n",
        "import seaborn as sns\n",
        "\n",
        "from sklearn.model_selection import train_test_split"
      ]
    },
    {
      "cell_type": "code",
      "execution_count": 25,
      "metadata": {
        "id": "VXcNQD4gk-sA"
      },
      "outputs": [],
      "source": [
        "plt.style.use('default')"
      ]
    },
    {
      "cell_type": "markdown",
      "metadata": {
        "id": "5BPC5hMznrfW"
      },
      "source": [
        "## 2. Load dataset"
      ]
    },
    {
      "cell_type": "code",
      "execution_count": 26,
      "metadata": {
        "id": "jwP2sHA2nuKG"
      },
      "outputs": [],
      "source": [
        "file_names = glob(\"/home/geun/shap/data_shap/3rd validation HTO_modif_Missing data delete_For AI.xlsx\")\n",
        "# read xlsx format using pandas\n",
        "# read only first index of the dataset\n",
        "df = pd.read_excel(file_names[0], engine=\"openpyxl\")"
      ]
    },
    {
      "cell_type": "code",
      "execution_count": 27,
      "metadata": {
        "colab": {
          "base_uri": "https://localhost:8080/"
        },
        "id": "S2QsQOScq1IN",
        "outputId": "c8918c4c-1fa0-4eb3-eea1-8cc0617614ff"
      },
      "outputs": [
        {
          "data": {
            "text/plain": [
              "['/home/geun/shap/data_shap/3rd validation HTO_modif_Missing data delete_For AI.xlsx']"
            ]
          },
          "execution_count": 27,
          "metadata": {},
          "output_type": "execute_result"
        }
      ],
      "source": [
        "file_names"
      ]
    },
    {
      "cell_type": "code",
      "execution_count": 28,
      "metadata": {
        "colab": {
          "base_uri": "https://localhost:8080/",
          "height": 334
        },
        "id": "QbcEF3nWJ8h0",
        "outputId": "9a81e687-0217-40dc-ff2c-bfdb7b1b823e"
      },
      "outputs": [
        {
          "data": {
            "text/html": [
              "<div>\n",
              "<style scoped>\n",
              "    .dataframe tbody tr th:only-of-type {\n",
              "        vertical-align: middle;\n",
              "    }\n",
              "\n",
              "    .dataframe tbody tr th {\n",
              "        vertical-align: top;\n",
              "    }\n",
              "\n",
              "    .dataframe thead th {\n",
              "        text-align: right;\n",
              "    }\n",
              "</style>\n",
              "<table border=\"1\" class=\"dataframe\">\n",
              "  <thead>\n",
              "    <tr style=\"text-align: right;\">\n",
              "      <th></th>\n",
              "      <th>case no.</th>\n",
              "      <th>PreWBL</th>\n",
              "      <th>Pre\\nJLCA</th>\n",
              "      <th>Pre\\nMPTA</th>\n",
              "      <th>Pre\\nLDFA</th>\n",
              "      <th>Pre Coronal translation)</th>\n",
              "      <th>PostWBL</th>\n",
              "      <th>Post\\nJLCA</th>\n",
              "      <th>Post\\nMPTA</th>\n",
              "      <th>Post\\nLDFA</th>\n",
              "      <th>...</th>\n",
              "      <th>Delta Coronal translation</th>\n",
              "      <th>LJSW (Varus)</th>\n",
              "      <th>MJSW (Valgus)</th>\n",
              "      <th>VVD</th>\n",
              "      <th>Sex (M:1, F:0)</th>\n",
              "      <th>Age</th>\n",
              "      <th>Height</th>\n",
              "      <th>Weight</th>\n",
              "      <th>BMI</th>\n",
              "      <th>Outcome</th>\n",
              "    </tr>\n",
              "  </thead>\n",
              "  <tbody>\n",
              "    <tr>\n",
              "      <th>0</th>\n",
              "      <td>1</td>\n",
              "      <td>19.726354</td>\n",
              "      <td>4.926667</td>\n",
              "      <td>85.856667</td>\n",
              "      <td>87.710000</td>\n",
              "      <td>3.71</td>\n",
              "      <td>67.400222</td>\n",
              "      <td>3.973333</td>\n",
              "      <td>95.550000</td>\n",
              "      <td>87.026667</td>\n",
              "      <td>...</td>\n",
              "      <td>-1.00</td>\n",
              "      <td>6.72</td>\n",
              "      <td>7.21</td>\n",
              "      <td>-0.49</td>\n",
              "      <td>0</td>\n",
              "      <td>52</td>\n",
              "      <td>152</td>\n",
              "      <td>70</td>\n",
              "      <td>30.30</td>\n",
              "      <td>1</td>\n",
              "    </tr>\n",
              "    <tr>\n",
              "      <th>1</th>\n",
              "      <td>2</td>\n",
              "      <td>10.615200</td>\n",
              "      <td>6.420000</td>\n",
              "      <td>85.100000</td>\n",
              "      <td>89.050000</td>\n",
              "      <td>6.71</td>\n",
              "      <td>61.882716</td>\n",
              "      <td>7.350000</td>\n",
              "      <td>95.910000</td>\n",
              "      <td>86.193333</td>\n",
              "      <td>...</td>\n",
              "      <td>-2.25</td>\n",
              "      <td>11.19</td>\n",
              "      <td>9.14</td>\n",
              "      <td>2.05</td>\n",
              "      <td>0</td>\n",
              "      <td>62</td>\n",
              "      <td>149</td>\n",
              "      <td>51</td>\n",
              "      <td>22.97</td>\n",
              "      <td>1</td>\n",
              "    </tr>\n",
              "    <tr>\n",
              "      <th>2</th>\n",
              "      <td>3</td>\n",
              "      <td>-5.870595</td>\n",
              "      <td>22.423333</td>\n",
              "      <td>81.133333</td>\n",
              "      <td>90.900000</td>\n",
              "      <td>6.61</td>\n",
              "      <td>25.177793</td>\n",
              "      <td>4.176667</td>\n",
              "      <td>89.660000</td>\n",
              "      <td>91.566667</td>\n",
              "      <td>...</td>\n",
              "      <td>-0.83</td>\n",
              "      <td>8.04</td>\n",
              "      <td>5.65</td>\n",
              "      <td>2.39</td>\n",
              "      <td>0</td>\n",
              "      <td>53</td>\n",
              "      <td>148</td>\n",
              "      <td>68</td>\n",
              "      <td>31.04</td>\n",
              "      <td>1</td>\n",
              "    </tr>\n",
              "    <tr>\n",
              "      <th>3</th>\n",
              "      <td>4</td>\n",
              "      <td>31.436854</td>\n",
              "      <td>5.950000</td>\n",
              "      <td>86.766667</td>\n",
              "      <td>88.396667</td>\n",
              "      <td>8.28</td>\n",
              "      <td>58.257285</td>\n",
              "      <td>4.090000</td>\n",
              "      <td>91.866667</td>\n",
              "      <td>86.023333</td>\n",
              "      <td>...</td>\n",
              "      <td>-1.80</td>\n",
              "      <td>8.83</td>\n",
              "      <td>8.90</td>\n",
              "      <td>-0.07</td>\n",
              "      <td>1</td>\n",
              "      <td>61</td>\n",
              "      <td>169</td>\n",
              "      <td>80</td>\n",
              "      <td>28.01</td>\n",
              "      <td>1</td>\n",
              "    </tr>\n",
              "    <tr>\n",
              "      <th>4</th>\n",
              "      <td>5</td>\n",
              "      <td>22.523574</td>\n",
              "      <td>3.660000</td>\n",
              "      <td>87.806667</td>\n",
              "      <td>90.406667</td>\n",
              "      <td>6.39</td>\n",
              "      <td>54.622471</td>\n",
              "      <td>4.460000</td>\n",
              "      <td>93.120000</td>\n",
              "      <td>88.263333</td>\n",
              "      <td>...</td>\n",
              "      <td>-3.84</td>\n",
              "      <td>11.09</td>\n",
              "      <td>6.51</td>\n",
              "      <td>4.58</td>\n",
              "      <td>0</td>\n",
              "      <td>52</td>\n",
              "      <td>155</td>\n",
              "      <td>83</td>\n",
              "      <td>34.55</td>\n",
              "      <td>1</td>\n",
              "    </tr>\n",
              "  </tbody>\n",
              "</table>\n",
              "<p>5 rows × 25 columns</p>\n",
              "</div>"
            ],
            "text/plain": [
              "   case no.     PreWBL  Pre\\nJLCA  Pre\\nMPTA  Pre\\nLDFA  \\\n",
              "0         1  19.726354   4.926667  85.856667  87.710000   \n",
              "1         2  10.615200   6.420000  85.100000  89.050000   \n",
              "2         3  -5.870595  22.423333  81.133333  90.900000   \n",
              "3         4  31.436854   5.950000  86.766667  88.396667   \n",
              "4         5  22.523574   3.660000  87.806667  90.406667   \n",
              "\n",
              "   Pre Coronal translation)    PostWBL  Post\\nJLCA  Post\\nMPTA  Post\\nLDFA  \\\n",
              "0                      3.71  67.400222    3.973333   95.550000   87.026667   \n",
              "1                      6.71  61.882716    7.350000   95.910000   86.193333   \n",
              "2                      6.61  25.177793    4.176667   89.660000   91.566667   \n",
              "3                      8.28  58.257285    4.090000   91.866667   86.023333   \n",
              "4                      6.39  54.622471    4.460000   93.120000   88.263333   \n",
              "\n",
              "   ...  Delta Coronal translation  LJSW (Varus)  MJSW (Valgus)   VVD  \\\n",
              "0  ...                      -1.00          6.72           7.21 -0.49   \n",
              "1  ...                      -2.25         11.19           9.14  2.05   \n",
              "2  ...                      -0.83          8.04           5.65  2.39   \n",
              "3  ...                      -1.80          8.83           8.90 -0.07   \n",
              "4  ...                      -3.84         11.09           6.51  4.58   \n",
              "\n",
              "   Sex (M:1, F:0)  Age  Height  Weight    BMI  Outcome  \n",
              "0               0   52     152      70  30.30        1  \n",
              "1               0   62     149      51  22.97        1  \n",
              "2               0   53     148      68  31.04        1  \n",
              "3               1   61     169      80  28.01        1  \n",
              "4               0   52     155      83  34.55        1  \n",
              "\n",
              "[5 rows x 25 columns]"
            ]
          },
          "execution_count": 28,
          "metadata": {},
          "output_type": "execute_result"
        }
      ],
      "source": [
        "df.head(5)"
      ]
    },
    {
      "cell_type": "markdown",
      "metadata": {
        "id": "oMLE8cURa044"
      },
      "source": [
        "### Define X"
      ]
    },
    {
      "cell_type": "code",
      "execution_count": 29,
      "metadata": {
        "colab": {
          "base_uri": "https://localhost:8080/",
          "height": 334
        },
        "id": "tmogjz6tar_G",
        "outputId": "5c747a77-c7f3-4cfe-b709-f84c671656c0"
      },
      "outputs": [
        {
          "data": {
            "text/html": [
              "<div>\n",
              "<style scoped>\n",
              "    .dataframe tbody tr th:only-of-type {\n",
              "        vertical-align: middle;\n",
              "    }\n",
              "\n",
              "    .dataframe tbody tr th {\n",
              "        vertical-align: top;\n",
              "    }\n",
              "\n",
              "    .dataframe thead th {\n",
              "        text-align: right;\n",
              "    }\n",
              "</style>\n",
              "<table border=\"1\" class=\"dataframe\">\n",
              "  <thead>\n",
              "    <tr style=\"text-align: right;\">\n",
              "      <th></th>\n",
              "      <th>case no.</th>\n",
              "      <th>PreWBL</th>\n",
              "      <th>Pre\\nJLCA</th>\n",
              "      <th>Pre\\nMPTA</th>\n",
              "      <th>Pre\\nLDFA</th>\n",
              "      <th>Pre Coronal translation)</th>\n",
              "      <th>PostWBL</th>\n",
              "      <th>Post\\nJLCA</th>\n",
              "      <th>Post\\nMPTA</th>\n",
              "      <th>Post\\nLDFA</th>\n",
              "      <th>...</th>\n",
              "      <th>∆LDFA</th>\n",
              "      <th>Delta Coronal translation</th>\n",
              "      <th>LJSW (Varus)</th>\n",
              "      <th>MJSW (Valgus)</th>\n",
              "      <th>VVD</th>\n",
              "      <th>Sex (M:1, F:0)</th>\n",
              "      <th>Age</th>\n",
              "      <th>Height</th>\n",
              "      <th>Weight</th>\n",
              "      <th>BMI</th>\n",
              "    </tr>\n",
              "  </thead>\n",
              "  <tbody>\n",
              "    <tr>\n",
              "      <th>0</th>\n",
              "      <td>1</td>\n",
              "      <td>19.726354</td>\n",
              "      <td>4.926667</td>\n",
              "      <td>85.856667</td>\n",
              "      <td>87.710000</td>\n",
              "      <td>3.71</td>\n",
              "      <td>67.400222</td>\n",
              "      <td>3.973333</td>\n",
              "      <td>95.550000</td>\n",
              "      <td>87.026667</td>\n",
              "      <td>...</td>\n",
              "      <td>-0.683333</td>\n",
              "      <td>-1.00</td>\n",
              "      <td>6.72</td>\n",
              "      <td>7.21</td>\n",
              "      <td>-0.49</td>\n",
              "      <td>0</td>\n",
              "      <td>52</td>\n",
              "      <td>152</td>\n",
              "      <td>70</td>\n",
              "      <td>30.30</td>\n",
              "    </tr>\n",
              "    <tr>\n",
              "      <th>1</th>\n",
              "      <td>2</td>\n",
              "      <td>10.615200</td>\n",
              "      <td>6.420000</td>\n",
              "      <td>85.100000</td>\n",
              "      <td>89.050000</td>\n",
              "      <td>6.71</td>\n",
              "      <td>61.882716</td>\n",
              "      <td>7.350000</td>\n",
              "      <td>95.910000</td>\n",
              "      <td>86.193333</td>\n",
              "      <td>...</td>\n",
              "      <td>-2.856667</td>\n",
              "      <td>-2.25</td>\n",
              "      <td>11.19</td>\n",
              "      <td>9.14</td>\n",
              "      <td>2.05</td>\n",
              "      <td>0</td>\n",
              "      <td>62</td>\n",
              "      <td>149</td>\n",
              "      <td>51</td>\n",
              "      <td>22.97</td>\n",
              "    </tr>\n",
              "    <tr>\n",
              "      <th>2</th>\n",
              "      <td>3</td>\n",
              "      <td>-5.870595</td>\n",
              "      <td>22.423333</td>\n",
              "      <td>81.133333</td>\n",
              "      <td>90.900000</td>\n",
              "      <td>6.61</td>\n",
              "      <td>25.177793</td>\n",
              "      <td>4.176667</td>\n",
              "      <td>89.660000</td>\n",
              "      <td>91.566667</td>\n",
              "      <td>...</td>\n",
              "      <td>0.666667</td>\n",
              "      <td>-0.83</td>\n",
              "      <td>8.04</td>\n",
              "      <td>5.65</td>\n",
              "      <td>2.39</td>\n",
              "      <td>0</td>\n",
              "      <td>53</td>\n",
              "      <td>148</td>\n",
              "      <td>68</td>\n",
              "      <td>31.04</td>\n",
              "    </tr>\n",
              "    <tr>\n",
              "      <th>3</th>\n",
              "      <td>4</td>\n",
              "      <td>31.436854</td>\n",
              "      <td>5.950000</td>\n",
              "      <td>86.766667</td>\n",
              "      <td>88.396667</td>\n",
              "      <td>8.28</td>\n",
              "      <td>58.257285</td>\n",
              "      <td>4.090000</td>\n",
              "      <td>91.866667</td>\n",
              "      <td>86.023333</td>\n",
              "      <td>...</td>\n",
              "      <td>-2.373333</td>\n",
              "      <td>-1.80</td>\n",
              "      <td>8.83</td>\n",
              "      <td>8.90</td>\n",
              "      <td>-0.07</td>\n",
              "      <td>1</td>\n",
              "      <td>61</td>\n",
              "      <td>169</td>\n",
              "      <td>80</td>\n",
              "      <td>28.01</td>\n",
              "    </tr>\n",
              "    <tr>\n",
              "      <th>4</th>\n",
              "      <td>5</td>\n",
              "      <td>22.523574</td>\n",
              "      <td>3.660000</td>\n",
              "      <td>87.806667</td>\n",
              "      <td>90.406667</td>\n",
              "      <td>6.39</td>\n",
              "      <td>54.622471</td>\n",
              "      <td>4.460000</td>\n",
              "      <td>93.120000</td>\n",
              "      <td>88.263333</td>\n",
              "      <td>...</td>\n",
              "      <td>-2.143333</td>\n",
              "      <td>-3.84</td>\n",
              "      <td>11.09</td>\n",
              "      <td>6.51</td>\n",
              "      <td>4.58</td>\n",
              "      <td>0</td>\n",
              "      <td>52</td>\n",
              "      <td>155</td>\n",
              "      <td>83</td>\n",
              "      <td>34.55</td>\n",
              "    </tr>\n",
              "  </tbody>\n",
              "</table>\n",
              "<p>5 rows × 24 columns</p>\n",
              "</div>"
            ],
            "text/plain": [
              "   case no.     PreWBL  Pre\\nJLCA  Pre\\nMPTA  Pre\\nLDFA  \\\n",
              "0         1  19.726354   4.926667  85.856667  87.710000   \n",
              "1         2  10.615200   6.420000  85.100000  89.050000   \n",
              "2         3  -5.870595  22.423333  81.133333  90.900000   \n",
              "3         4  31.436854   5.950000  86.766667  88.396667   \n",
              "4         5  22.523574   3.660000  87.806667  90.406667   \n",
              "\n",
              "   Pre Coronal translation)    PostWBL  Post\\nJLCA  Post\\nMPTA  Post\\nLDFA  \\\n",
              "0                      3.71  67.400222    3.973333   95.550000   87.026667   \n",
              "1                      6.71  61.882716    7.350000   95.910000   86.193333   \n",
              "2                      6.61  25.177793    4.176667   89.660000   91.566667   \n",
              "3                      8.28  58.257285    4.090000   91.866667   86.023333   \n",
              "4                      6.39  54.622471    4.460000   93.120000   88.263333   \n",
              "\n",
              "   ...     ∆LDFA  Delta Coronal translation  LJSW (Varus)  MJSW (Valgus)  \\\n",
              "0  ... -0.683333                      -1.00          6.72           7.21   \n",
              "1  ... -2.856667                      -2.25         11.19           9.14   \n",
              "2  ...  0.666667                      -0.83          8.04           5.65   \n",
              "3  ... -2.373333                      -1.80          8.83           8.90   \n",
              "4  ... -2.143333                      -3.84         11.09           6.51   \n",
              "\n",
              "    VVD  Sex (M:1, F:0)  Age  Height  Weight    BMI  \n",
              "0 -0.49               0   52     152      70  30.30  \n",
              "1  2.05               0   62     149      51  22.97  \n",
              "2  2.39               0   53     148      68  31.04  \n",
              "3 -0.07               1   61     169      80  28.01  \n",
              "4  4.58               0   52     155      83  34.55  \n",
              "\n",
              "[5 rows x 24 columns]"
            ]
          },
          "execution_count": 29,
          "metadata": {},
          "output_type": "execute_result"
        }
      ],
      "source": [
        "X = df.iloc[:, :-1]\n",
        "X.head(5)"
      ]
    },
    {
      "cell_type": "markdown",
      "metadata": {
        "id": "p1P-AlvUa8SH"
      },
      "source": [
        "### Define y label"
      ]
    },
    {
      "cell_type": "code",
      "execution_count": 30,
      "metadata": {
        "colab": {
          "base_uri": "https://localhost:8080/"
        },
        "id": "E1B6E88Da73d",
        "outputId": "27f5dcb4-fced-44db-87cc-d96151d13868"
      },
      "outputs": [
        {
          "data": {
            "text/plain": [
              "0    1\n",
              "1    1\n",
              "2    1\n",
              "3    1\n",
              "4    1\n",
              "Name: Outcome, dtype: int64"
            ]
          },
          "execution_count": 30,
          "metadata": {},
          "output_type": "execute_result"
        }
      ],
      "source": [
        "y = df.iloc[:, -1]\n",
        "y.head(5)"
      ]
    },
    {
      "cell_type": "code",
      "execution_count": 31,
      "metadata": {
        "colab": {
          "base_uri": "https://localhost:8080/"
        },
        "id": "AcR1o7l6KYg5",
        "outputId": "53ba5a95-c358-479d-fd17-7c21ee231b41"
      },
      "outputs": [
        {
          "data": {
            "text/plain": [
              "((327, 24), (327,))"
            ]
          },
          "execution_count": 31,
          "metadata": {},
          "output_type": "execute_result"
        }
      ],
      "source": [
        "X.shape, y.shape"
      ]
    },
    {
      "cell_type": "code",
      "execution_count": 32,
      "metadata": {
        "colab": {
          "base_uri": "https://localhost:8080/"
        },
        "id": "pX2flPW-ne7B",
        "outputId": "f3573bba-ff6f-436b-82c8-9afe5d2a4bc8"
      },
      "outputs": [
        {
          "data": {
            "text/plain": [
              "((261, 24), (66, 24), (261,), (66,))"
            ]
          },
          "execution_count": 32,
          "metadata": {},
          "output_type": "execute_result"
        }
      ],
      "source": [
        "X_train, X_test, y_train, y_test = train_test_split(X, y, test_size=0.2)\n",
        "X_train, X_test, y_train, y_test = X_train.to_numpy(), X_test.to_numpy(), y_train.to_numpy(), y_test.to_numpy()\n",
        "X_train.shape, X_test.shape, y_train.shape, y_test.shape"
      ]
    },
    {
      "cell_type": "markdown",
      "metadata": {
        "id": "sZERYjSCK_m6"
      },
      "source": [
        "## 3. Deep Neural Network (DNN)"
      ]
    },
    {
      "cell_type": "code",
      "execution_count": 33,
      "metadata": {
        "id": "sE529MoPVuzh"
      },
      "outputs": [],
      "source": [
        "import torch, torchvision\n",
        "from torch import nn, optim\n",
        "from torch.nn import functional as F\n",
        "from torch.utils.data import DataLoader"
      ]
    },
    {
      "cell_type": "code",
      "execution_count": 34,
      "metadata": {
        "id": "F18d7xvjaHis"
      },
      "outputs": [],
      "source": [
        "from sklearn.preprocessing import StandardScaler\n",
        "\n",
        "scaler = StandardScaler()\n",
        "X_train = scaler.fit_transform(X_train)\n",
        "X_test = scaler.fit_transform(X_test)"
      ]
    },
    {
      "cell_type": "code",
      "execution_count": 35,
      "metadata": {
        "id": "2TaiHVwNam6n"
      },
      "outputs": [],
      "source": [
        "class BinaryClassification(torch.nn.Module):\n",
        "  def __init__(self, input_dimension):\n",
        "    super().__init__()\n",
        "    self.linear = torch.nn.Linear(input_dimension, 1)\n",
        "\n",
        "  def forward(self, input_dimension):\n",
        "      return self.linear(input_dimension)"
      ]
    },
    {
      "cell_type": "code",
      "execution_count": 36,
      "metadata": {
        "id": "VQiEkO7MbzSH"
      },
      "outputs": [],
      "source": [
        "class Net(nn.Module) :\n",
        "    def __init__(self) :\n",
        "        super(Net, self).__init__()\n",
        "        self.fc = nn.Sequential(\n",
        "            nn.Linear(33,20),\n",
        "            nn.LeakyReLU(),\n",
        "            nn.Linear(20,15),\n",
        "            nn.LeakyReLU(),\n",
        "            nn.Linear(15,2)\n",
        "        )\n",
        "    def forward(self, x) :\n",
        "        x = self.fc(x)\n",
        "        return x"
      ]
    },
    {
      "cell_type": "code",
      "execution_count": 37,
      "metadata": {
        "colab": {
          "base_uri": "https://localhost:8080/",
          "height": 1000
        },
        "id": "s4Qp6Vsfa6rO",
        "outputId": "0953d86c-54d3-4208-d166-5dead15df6c4"
      },
      "outputs": [
        {
          "name": "stdout",
          "output_type": "stream",
          "text": [
            "In this epoch 50/3000, Training loss: 0.6358, Test loss: 0.6623\n",
            "In this epoch 100/3000, Training loss: 0.6043, Test loss: 0.6576\n",
            "In this epoch 150/3000, Training loss: 0.5838, Test loss: 0.6566\n",
            "In this epoch 200/3000, Training loss: 0.5701, Test loss: 0.6569\n",
            "In this epoch 250/3000, Training loss: 0.5608, Test loss: 0.6581\n",
            "In this epoch 300/3000, Training loss: 0.5544, Test loss: 0.6598\n",
            "In this epoch 350/3000, Training loss: 0.5500, Test loss: 0.6617\n",
            "In this epoch 400/3000, Training loss: 0.5468, Test loss: 0.6635\n",
            "In this epoch 450/3000, Training loss: 0.5446, Test loss: 0.6651\n",
            "In this epoch 500/3000, Training loss: 0.5429, Test loss: 0.6666\n",
            "In this epoch 550/3000, Training loss: 0.5416, Test loss: 0.6679\n",
            "In this epoch 600/3000, Training loss: 0.5406, Test loss: 0.6689\n",
            "In this epoch 650/3000, Training loss: 0.5399, Test loss: 0.6699\n",
            "In this epoch 700/3000, Training loss: 0.5393, Test loss: 0.6707\n",
            "In this epoch 750/3000, Training loss: 0.5388, Test loss: 0.6714\n",
            "In this epoch 800/3000, Training loss: 0.5385, Test loss: 0.6720\n",
            "In this epoch 850/3000, Training loss: 0.5382, Test loss: 0.6726\n",
            "In this epoch 900/3000, Training loss: 0.5379, Test loss: 0.6731\n",
            "In this epoch 950/3000, Training loss: 0.5377, Test loss: 0.6736\n",
            "In this epoch 1000/3000, Training loss: 0.5376, Test loss: 0.6740\n",
            "In this epoch 1050/3000, Training loss: 0.5374, Test loss: 0.6745\n",
            "In this epoch 1100/3000, Training loss: 0.5373, Test loss: 0.6749\n",
            "In this epoch 1150/3000, Training loss: 0.5372, Test loss: 0.6753\n",
            "In this epoch 1200/3000, Training loss: 0.5371, Test loss: 0.6756\n",
            "In this epoch 1250/3000, Training loss: 0.5370, Test loss: 0.6760\n",
            "In this epoch 1300/3000, Training loss: 0.5370, Test loss: 0.6763\n",
            "In this epoch 1350/3000, Training loss: 0.5369, Test loss: 0.6766\n",
            "In this epoch 1400/3000, Training loss: 0.5369, Test loss: 0.6769\n",
            "In this epoch 1450/3000, Training loss: 0.5368, Test loss: 0.6772\n",
            "In this epoch 1500/3000, Training loss: 0.5368, Test loss: 0.6774\n",
            "In this epoch 1550/3000, Training loss: 0.5367, Test loss: 0.6776\n",
            "In this epoch 1600/3000, Training loss: 0.5367, Test loss: 0.6778\n",
            "In this epoch 1650/3000, Training loss: 0.5367, Test loss: 0.6780\n",
            "In this epoch 1700/3000, Training loss: 0.5366, Test loss: 0.6782\n",
            "In this epoch 1750/3000, Training loss: 0.5366, Test loss: 0.6784\n",
            "In this epoch 1800/3000, Training loss: 0.5366, Test loss: 0.6785\n",
            "In this epoch 1850/3000, Training loss: 0.5366, Test loss: 0.6786\n",
            "In this epoch 1900/3000, Training loss: 0.5365, Test loss: 0.6788\n",
            "In this epoch 1950/3000, Training loss: 0.5365, Test loss: 0.6789\n",
            "In this epoch 2000/3000, Training loss: 0.5365, Test loss: 0.6790\n",
            "In this epoch 2050/3000, Training loss: 0.5365, Test loss: 0.6791\n",
            "In this epoch 2100/3000, Training loss: 0.5364, Test loss: 0.6792\n",
            "In this epoch 2150/3000, Training loss: 0.5364, Test loss: 0.6793\n",
            "In this epoch 2200/3000, Training loss: 0.5364, Test loss: 0.6794\n",
            "In this epoch 2250/3000, Training loss: 0.5364, Test loss: 0.6794\n",
            "In this epoch 2300/3000, Training loss: 0.5363, Test loss: 0.6795\n",
            "In this epoch 2350/3000, Training loss: 0.5363, Test loss: 0.6796\n",
            "In this epoch 2400/3000, Training loss: 0.5363, Test loss: 0.6797\n",
            "In this epoch 2450/3000, Training loss: 0.5363, Test loss: 0.6798\n",
            "In this epoch 2500/3000, Training loss: 0.5363, Test loss: 0.6798\n",
            "In this epoch 2550/3000, Training loss: 0.5363, Test loss: 0.6799\n",
            "In this epoch 2600/3000, Training loss: 0.5362, Test loss: 0.6800\n",
            "In this epoch 2650/3000, Training loss: 0.5362, Test loss: 0.6801\n",
            "In this epoch 2700/3000, Training loss: 0.5362, Test loss: 0.6801\n",
            "In this epoch 2750/3000, Training loss: 0.5362, Test loss: 0.6802\n",
            "In this epoch 2800/3000, Training loss: 0.5362, Test loss: 0.6803\n",
            "In this epoch 2850/3000, Training loss: 0.5362, Test loss: 0.6804\n",
            "In this epoch 2900/3000, Training loss: 0.5362, Test loss: 0.6804\n",
            "In this epoch 2950/3000, Training loss: 0.5362, Test loss: 0.6805\n",
            "In this epoch 3000/3000, Training loss: 0.5361, Test loss: 0.6806\n"
          ]
        },
        {
          "data": {
            "image/png": "[encoded data removed]",
            "text/plain": [
              "<Figure size 640x480 with 1 Axes>"
            ]
          },
          "metadata": {},
          "output_type": "display_data"
        },
        {
          "name": "stdout",
          "output_type": "stream",
          "text": [
            "0.735632183908046\n",
            "0.696969696969697\n"
          ]
        }
      ],
      "source": [
        "_, input_dimension = X_train.shape\n",
        "\n",
        "# model = torch.nn.Linear(input_dimension, 1)\n",
        "model = BinaryClassification(input_dimension)\n",
        "# model = Net()\n",
        "\n",
        "\"\"\"train the model\"\"\"\n",
        "\n",
        "def configure_loss_function(): \n",
        "  return torch.nn.BCEWithLogitsLoss()\n",
        "\n",
        "def configure_optimizer(model):\n",
        "  return torch.optim.Adam(model.parameters())\n",
        "\n",
        "def full_gd(model, criterion, optimizer, X_train, y_train, n_epochs=3000):\n",
        "  train_losses = np.zeros(n_epochs)\n",
        "  test_losses = np.zeros(n_epochs)\n",
        "\n",
        "  for it in range(n_epochs): \n",
        "    outputs = model(X_train)\n",
        "    loss = criterion(outputs, y_train)\n",
        "    optimizer.zero_grad()\n",
        "    loss.backward()\n",
        "    optimizer.step()\n",
        "\n",
        "    outputs_test = model(X_test)\n",
        "    loss_test = criterion(outputs_test, y_test)\n",
        "\n",
        "    train_losses[it] = loss.item()\n",
        "    test_losses[it] = loss_test.item()\n",
        "\n",
        "    if (it + 1) % 50 == 0:\n",
        "      print(f'In this epoch {it+1}/{n_epochs}, Training loss: {loss.item():.4f}, Test loss: {loss_test.item():.4f}')\n",
        "\n",
        "  return train_losses, test_losses\n",
        "\n",
        "X_train = torch.from_numpy(X_train.astype(np.float32))\n",
        "X_test = torch.from_numpy(X_test.astype(np.float32))\n",
        "y_train = torch.from_numpy(y_train.astype(np.float32)).reshape(-1, 1)\n",
        "y_test = torch.from_numpy(y_test.astype(np.float32)).reshape(-1, 1)\n",
        "\n",
        "criterion = configure_loss_function()\n",
        "optimizer = configure_optimizer(model)\n",
        "train_losses, test_losses = full_gd(model, criterion, optimizer, X_train, y_train)\n",
        "\n",
        "plt.plot(train_losses, label = 'train loss')\n",
        "plt.plot(test_losses, label = 'test loss')\n",
        "plt.legend()\n",
        "plt.show()\n",
        "\n",
        "\"\"\"evaluate model\"\"\"\n",
        "\n",
        "with torch.no_grad():\n",
        "  p_train = model(X_train)\n",
        "  p_train = (p_train.numpy() > 0)\n",
        "\n",
        "  train_acc = np.mean(y_train.numpy() == p_train)\n",
        "\n",
        "  p_test = model(X_test)\n",
        "  p_test = (p_test.numpy() > 0)\n",
        "  \n",
        "  test_acc = np.mean(y_test.numpy() == p_test)\n",
        "\n",
        "print(train_acc)\n",
        "print(test_acc)"
      ]
    },
    {
      "cell_type": "markdown",
      "metadata": {
        "id": "TB5q3VqY3X6u"
      },
      "source": [
        "### 3.1 Evaluate the model"
      ]
    },
    {
      "cell_type": "markdown",
      "metadata": {
        "id": "E3lWcvayfBOi"
      },
      "source": [
        "## 4. SHAP"
      ]
    },
    {
      "cell_type": "code",
      "execution_count": 54,
      "metadata": {
        "id": "GMwcW3Q7cvXY"
      },
      "outputs": [],
      "source": [
        "import shap"
      ]
    },
    {
      "cell_type": "code",
      "execution_count": null,
      "metadata": {},
      "outputs": [],
      "source": []
    },
    {
      "cell_type": "markdown",
      "metadata": {
        "id": "Ng6Q2OVaz3-2"
      },
      "source": [
        "### Bar plot"
      ]
    },
    {
      "cell_type": "code",
      "execution_count": null,
      "metadata": {
        "colab": {
          "base_uri": "https://localhost:8080/"
        },
        "id": "IJzM8YqPi-Jm",
        "outputId": "8219a21a-e2aa-41f9-f54f-6cbcb49fc7a3"
      },
      "outputs": [],
      "source": [
        "shap_values.shape"
      ]
    },
    {
      "cell_type": "code",
      "execution_count": null,
      "metadata": {
        "colab": {
          "base_uri": "https://localhost:8080/",
          "height": 289
        },
        "id": "M61I6ggufWcw",
        "outputId": "e3c13905-91ed-4101-ba30-21c3cbe63220"
      },
      "outputs": [],
      "source": [
        "shap.plots.bar(shap_values[0])"
      ]
    },
    {
      "cell_type": "markdown",
      "metadata": {
        "id": "5HoLLTKhz6la"
      },
      "source": [
        "### Summary plot: beeswarm"
      ]
    },
    {
      "cell_type": "code",
      "execution_count": null,
      "metadata": {
        "colab": {
          "base_uri": "https://localhost:8080/",
          "height": 306
        },
        "id": "hlqTLhbHfati",
        "outputId": "a1ecc562-57c1-4415-c7f0-a5947682c681"
      },
      "outputs": [],
      "source": [
        "shap.plots.beeswarm(shap_values)"
      ]
    },
    {
      "cell_type": "markdown",
      "metadata": {
        "id": "PFUHyM7Nz_ok"
      },
      "source": [
        "### Summary plot: violin"
      ]
    },
    {
      "cell_type": "code",
      "execution_count": null,
      "metadata": {
        "colab": {
          "base_uri": "https://localhost:8080/",
          "height": 957
        },
        "id": "az_J4-PqfnZh",
        "outputId": "8e4f85ce-56fd-4d5b-8eb5-78f4ad17051c"
      },
      "outputs": [],
      "source": [
        "shap.summary_plot(shap_values, plot_type=\"violin\")"
      ]
    },
    {
      "cell_type": "markdown",
      "metadata": {
        "id": "QOYGXx3R0FS9"
      },
      "source": [
        "### Local bar plot: single observation"
      ]
    },
    {
      "cell_type": "code",
      "execution_count": null,
      "metadata": {
        "colab": {
          "base_uri": "https://localhost:8080/",
          "height": 289
        },
        "id": "JzQtkRj5fn-k",
        "outputId": "74678347-d95e-44ee-a28d-73a75c240169"
      },
      "outputs": [],
      "source": [
        "shap.plots.bar(shap_values[0])"
      ]
    },
    {
      "cell_type": "markdown",
      "metadata": {
        "id": "3dsJTEkv0Un-"
      },
      "source": [
        "### Waterfall plot"
      ]
    },
    {
      "cell_type": "code",
      "execution_count": null,
      "metadata": {
        "colab": {
          "base_uri": "https://localhost:8080/",
          "height": 289
        },
        "id": "It2znlPafzx8",
        "outputId": "db5ec2c5-4007-476c-ceab-7ffc63c481e6"
      },
      "outputs": [],
      "source": [
        "shap.plots.waterfall(shap_values[0])"
      ]
    },
    {
      "cell_type": "markdown",
      "metadata": {
        "id": "DwyHZkvh1msy"
      },
      "source": [
        "### Force plot"
      ]
    },
    {
      "cell_type": "code",
      "execution_count": null,
      "metadata": {
        "colab": {
          "base_uri": "https://localhost:8080/"
        },
        "id": "WNnXiO2747Ui",
        "outputId": "84daf5b5-d1e5-4bb6-a1fc-4c19c1cae454"
      },
      "outputs": [],
      "source": [
        "shap_values[0]"
      ]
    },
    {
      "cell_type": "code",
      "execution_count": null,
      "metadata": {
        "colab": {
          "base_uri": "https://localhost:8080/",
          "height": 367
        },
        "id": "Ipnl-qfU1jlb",
        "outputId": "0a4b6d0b-c99b-4307-84c5-60fc0e4c8135"
      },
      "outputs": [],
      "source": [
        "shap.initjs()\n",
        "shap.plots.force(shap_values[0])"
      ]
    },
    {
      "cell_type": "code",
      "execution_count": null,
      "metadata": {
        "id": "gaTJ7EkuN6_U"
      },
      "outputs": [],
      "source": []
    }
  ],
  "metadata": {
    "colab": {
      "provenance": []
    },
    "gpuClass": "standard",
    "kernelspec": {
      "display_name": "torch",
      "language": "python",
      "name": "python3"
    },
    "language_info": {
      "codemirror_mode": {
        "name": "ipython",
        "version": 3
      },
      "file_extension": ".py",
      "mimetype": "text/x-python",
      "name": "python",
      "nbconvert_exporter": "python",
      "pygments_lexer": "ipython3",
      "version": "3.9.13 (main, Oct 13 2022, 16:12:30) \n[Clang 12.0.0 ]"
    },
    "vscode": {
      "interpreter": {
        "hash": "d61e67d4406f83661a218a7594034be74564666d0640d3900a3e99845865d0f0"
      }
    }
  },
  "nbformat": 4,
  "nbformat_minor": 0
}
